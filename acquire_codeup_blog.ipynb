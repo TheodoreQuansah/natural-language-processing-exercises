{
 "cells": [
  {
   "cell_type": "markdown",
   "id": "8f1222f4-925f-457b-a141-ec8b4cf81f42",
   "metadata": {},
   "source": [
    "# Acquire Data through Web Scraping"
   ]
  },
  {
   "cell_type": "code",
   "execution_count": 2,
   "id": "7faa81a7-93d1-44ea-aba8-62bb02f084f5",
   "metadata": {},
   "outputs": [],
   "source": [
    "import pandas as pd\n",
    "import requests\n",
    "import re\n",
    "\n",
    "from bs4 import BeautifulSoup"
   ]
  },
  {
   "cell_type": "markdown",
   "id": "8ab33d18-e275-491e-8e95-ce31beef8ebc",
   "metadata": {},
   "source": [
    "### 1) \n",
    "Codeup Blog Articles\n",
    "\n",
    "Visit Codeup's Blog and record the urls for at least 5 distinct blog posts. For each post, you should scrape at least the post's title and content.\n",
    "\n",
    "Encapsulate your work in a function named get_blog_articles that will return a list of dictionaries, with each dictionary representing one article.   \n",
    "The shape of each dictionary should look like this:  \n",
    "{   \n",
    "    'title': 'the title of the article',  \n",
    "    'content': 'the full text content of the article'  \n",
    "}  \n"
   ]
  },
  {
   "cell_type": "code",
   "execution_count": 3,
   "id": "686f4fba-da08-4b47-9fb2-fcbdf4eede16",
   "metadata": {},
   "outputs": [],
   "source": [
    "# Define the URL to the webpage you want to scrape\n",
    "url = 'https://codeup.edu/blog'\n",
    "# Define the User-Agent header to be used in the HTTP request\n",
    "headers = {'User-Agent': 'Codeup Data Science'}"
   ]
  },
  {
   "cell_type": "code",
   "execution_count": 4,
   "id": "5e3f2c21-b8e9-4818-9f73-e7329a32388d",
   "metadata": {},
   "outputs": [
    {
     "data": {
      "text/plain": [
       "<Response [200]>"
      ]
     },
     "execution_count": 4,
     "metadata": {},
     "output_type": "execute_result"
    }
   ],
   "source": [
    "# Send an HTTP GET request to the specified URL with the defined User-Agent header\n",
    "response = requests.get(url, headers=headers)\n",
    "response"
   ]
  },
  {
   "cell_type": "code",
   "execution_count": 5,
   "id": "d96aa8c7-a5b3-47b9-9310-7153bedd4f3e",
   "metadata": {
    "scrolled": true
   },
   "outputs": [],
   "source": [
    "# Create a BeautifulSoup object to parse the HTML content\n",
    "soup = BeautifulSoup(response.content, 'html.parser')"
   ]
  },
  {
   "cell_type": "code",
   "execution_count": 6,
   "id": "184d1394-0bd8-4c3a-802f-eaf937ed2f09",
   "metadata": {},
   "outputs": [],
   "source": [
    "# Find all the HTML elements with the 'h2' tag in the parsed HTML content\n",
    "links = soup.find_all('h2')"
   ]
  },
  {
   "cell_type": "code",
   "execution_count": 7,
   "id": "2f887ef5-3d65-467f-af6a-2adac1592746",
   "metadata": {},
   "outputs": [
    {
     "name": "stdout",
     "output_type": "stream",
     "text": [
      "<a href=\"https://codeup.edu/featured/apida-heritage-month/\">Spotlight on APIDA Voices: Celebrating Heritage and Inspiring Change ft. Arbeena Thapa</a>\n",
      "<a href=\"https://codeup.edu/featured/women-in-tech-panelist-spotlight/\">Women in tech: Panelist Spotlight – Magdalena Rahn</a>\n",
      "<a href=\"https://codeup.edu/featured/women-in-tech-rachel-robbins-mayhill/\">Women in tech: Panelist Spotlight – Rachel Robbins-Mayhill</a>\n",
      "<a href=\"https://codeup.edu/codeup-news/women-in-tech-panelist-spotlight-sarah-mellor/\">Women in Tech: Panelist Spotlight – Sarah Mellor</a>\n",
      "<a href=\"https://codeup.edu/events/women-in-tech-madeleine/\">Women in Tech: Panelist Spotlight – Madeleine Capper</a>\n",
      "<a href=\"https://codeup.edu/codeup-news/panelist-spotlight-4/\">Black Excellence in Tech: Panelist Spotlight – Wilmarie De La Cruz Mejia</a>\n",
      "None\n"
     ]
    }
   ],
   "source": [
    "# Iterate through each 'h2' element in the 'links' list\n",
    "for article in links:\n",
    "    # Find the first 'a' (anchor) element within each 'h2' element and print it\n",
    "    print(article.find('a'))"
   ]
  },
  {
   "cell_type": "code",
   "execution_count": 8,
   "id": "69fb4e81-f003-4f15-b911-5f398910cf8a",
   "metadata": {},
   "outputs": [
    {
     "name": "stdout",
     "output_type": "stream",
     "text": [
      "https://codeup.edu/featured/apida-heritage-month/\n",
      "https://codeup.edu/featured/women-in-tech-panelist-spotlight/\n",
      "https://codeup.edu/featured/women-in-tech-rachel-robbins-mayhill/\n",
      "https://codeup.edu/codeup-news/women-in-tech-panelist-spotlight-sarah-mellor/\n",
      "https://codeup.edu/events/women-in-tech-madeleine/\n",
      "https://codeup.edu/codeup-news/panelist-spotlight-4/\n"
     ]
    },
    {
     "data": {
      "text/plain": [
       "['https://codeup.edu/featured/apida-heritage-month/',\n",
       " 'https://codeup.edu/featured/women-in-tech-panelist-spotlight/',\n",
       " 'https://codeup.edu/featured/women-in-tech-rachel-robbins-mayhill/',\n",
       " 'https://codeup.edu/codeup-news/women-in-tech-panelist-spotlight-sarah-mellor/',\n",
       " 'https://codeup.edu/events/women-in-tech-madeleine/',\n",
       " 'https://codeup.edu/codeup-news/panelist-spotlight-4/']"
      ]
     },
     "execution_count": 8,
     "metadata": {},
     "output_type": "execute_result"
    }
   ],
   "source": [
    "# Initialize an empty list to store the extracted links\n",
    "new_links = []\n",
    "\n",
    "# Loop through each 'article' element in the 'links' list\n",
    "for article in links:\n",
    "    # Check if the 'article' contains an 'a' (anchor) element\n",
    "    if article.find(\"a\"):\n",
    "        # Print the 'href' attribute of the 'a' element (the link)\n",
    "        print(article.find(\"a\").get(\"href\"))\n",
    "        # Append the link to the 'new_links' list\n",
    "        new_links.append(article.find(\"a\").get(\"href\"))\n",
    "\n",
    "new_links      "
   ]
  },
  {
   "cell_type": "markdown",
   "id": "1d2a459d-b8ff-42df-8513-a2a8ac5431f4",
   "metadata": {},
   "source": [
    "## 1st Blog Post"
   ]
  },
  {
   "cell_type": "code",
   "execution_count": 9,
   "id": "f65ccfdb-b68c-443a-a13b-8c0de6e613cc",
   "metadata": {},
   "outputs": [],
   "source": [
    "# Get the first URL from the 'new_links' list and assign it to the variable 'url'\n",
    "url = new_links[0]"
   ]
  },
  {
   "cell_type": "code",
   "execution_count": 10,
   "id": "d819cd95-ceb0-41fd-8c49-4b618edded7e",
   "metadata": {},
   "outputs": [
    {
     "data": {
      "text/plain": [
       "<Response [200]>"
      ]
     },
     "execution_count": 10,
     "metadata": {},
     "output_type": "execute_result"
    }
   ],
   "source": [
    "# Send an HTTP GET request to the specified URL with the defined User-Agent header\n",
    "response = requests.get(url, headers=headers)\n",
    "response"
   ]
  },
  {
   "cell_type": "code",
   "execution_count": 11,
   "id": "132b6873-792a-4965-a7f5-8618e5eb4f37",
   "metadata": {
    "scrolled": true
   },
   "outputs": [],
   "source": [
    "# Create a BeautifulSoup object to parse the HTML content\n",
    "soup = BeautifulSoup(response.content, 'html.parser')"
   ]
  },
  {
   "cell_type": "code",
   "execution_count": 12,
   "id": "1048b649-6915-45f9-a737-3a3cefdb4874",
   "metadata": {},
   "outputs": [
    {
     "data": {
      "text/plain": [
       "'Spotlight on APIDA Voices: Celebrating Heritage and Inspiring Change ft. Arbeena Thapa'"
      ]
     },
     "execution_count": 12,
     "metadata": {},
     "output_type": "execute_result"
    }
   ],
   "source": [
    "# Find all the HTML elements with the 'h1' tag in the parsed HTML content and assign it to title\n",
    "title = soup.find(\"h1\").get_text()\n",
    "title"
   ]
  },
  {
   "cell_type": "code",
   "execution_count": 13,
   "id": "36ccac84-97bf-4e82-8f81-41323285ee7b",
   "metadata": {
    "scrolled": true
   },
   "outputs": [],
   "source": [
    "# Select the 'entry-content' class within the parsed HTML content and retrieve the first element ([0])\n",
    "# Within the selected content, find all 'p' (paragraph) elements and store them in the 'content' variable\n",
    "content = soup.select(\".entry-content\")[0].find_all(\"p\")"
   ]
  },
  {
   "cell_type": "code",
   "execution_count": 14,
   "id": "8822f619-c005-41ba-a742-c473ecfb8c37",
   "metadata": {
    "scrolled": true
   },
   "outputs": [],
   "source": [
    "# Initialize an empty list to store cleaned content\n",
    "clean_content = []\n",
    "\n",
    "# Loop through each 'p' (paragraph) element in the 'content' list\n",
    "for p in content:\n",
    "    # Extract the text content from the 'p' element and append it to the 'clean_content' list\n",
    "    clean_content.append(p.get_text())"
   ]
  },
  {
   "cell_type": "code",
   "execution_count": 15,
   "id": "72a2e511-d2bb-4a68-b543-20915dd6708b",
   "metadata": {},
   "outputs": [],
   "source": [
    "# Join the cleaned content in the 'clean_content' list into a single string\n",
    "content = ''.join(clean_content)"
   ]
  },
  {
   "cell_type": "code",
   "execution_count": 16,
   "id": "f7827e87-5dcc-44a0-acd0-b7ec80a14d42",
   "metadata": {},
   "outputs": [],
   "source": [
    "# Create a dictionary 'heritage_blog' with 'title' and 'content' as keys\n",
    "heritage_blog = {\n",
    "    'title': title,      # Store the title in the 'title' key\n",
    "    'content': content   # Store the content in the 'content' key\n",
    "}"
   ]
  },
  {
   "cell_type": "code",
   "execution_count": 17,
   "id": "0f14f1a4-e2f2-4358-937a-ee9030dca99e",
   "metadata": {},
   "outputs": [
    {
     "data": {
      "text/plain": [
       "{'title': 'Spotlight on APIDA Voices: Celebrating Heritage and Inspiring Change ft. Arbeena Thapa',\n",
       " 'content': 'May is traditionally known as Asian American and Pacific Islander (AAPI) Heritage Month. This month we celebrate the history and contributions made possible by our AAPI friends, family, and community. We also examine our level of support and seek opportunities to better understand the AAPI community.In an effort to address real concerns and experiences, we sat down with Arbeena Thapa, one of Codeup’s Financial Aid and Enrollment Managers.Arbeena identifies as Nepali American and Desi. Arbeena’s parents immigrated to Texas in 1988 for better employment and educational opportunities. Arbeena’s older sister was five when they made the move to the US. Arbeena was born later, becoming the first in her family to be a US citizen.At Codeup we take our efforts at inclusivity very seriously. After speaking with Arbeena, we were taught that the term AAPI excludes Desi-American individuals. Hence, we will now use the term Asian Pacific Islander Desi American (APIDA).Here is how the rest of our conversation with Arbeena went!How do you celebrate or connect with your heritage and cultural traditions?“I celebrate Nepal’s version of Christmas or Dashain. This is a nine-day celebration also known as Dussehra. I grew up as Hindu and I identify as Hindu, this is a very large part of my heritage. ““Other ways I connect with my culture include sharing food! Momos are South Asian Dumplings and they’re my favorite to make and share.”“On my Asian American side, I am an advocate of immigrant justice and erasure within APIDA social or political movements. I participate in events to embrace my identity such as immigrant justice advocacy because I come from a mixed-status family. I’ve always been in a community with undocumented Asian immigrants. .”What are some of the challenges you have faced as an APIDA individual, personally or professionally?“I often struggle with being gendered as compliant or a pushover. Professionally, I am often stereotyped as meek, so I’ve been overlooked for leadership roles. We are seen as perpetually foreign; people tend to other us in that way, yet put us on a pedestal for what a model minority looks like. This has made me hesitant to share my heritage in the past because these assumptions get mapped onto me. ”Can you describe some common barriers of entry that APIDA individuals, specifically women may face when trying to enter or advance in the workplace?“Being overlooked for leadership. In the past, I have not been viewed as a leader. People sometimes have preconceived stereotypes of Asian women not being able to be bold, or being vocal can be mistaken for being too emotional. “How do you believe microaggressions impact APIDA individuals in the workplace? Can you provide examples of such microaggressions?“Erasure is big. To me, only saying ‘Merry Christmas’ isn’t inclusive to other religions. People are often resistant to saying ‘Happy Holidays,’ but saying Merry Christmas excludes, and does not appreciate my heritage. ““Often microaggressions are not micro at all. They typically are not aggressive racialized violence, but the term ‘micro’ minimizes impact.”“Some that I’ve heard are ‘What kind of Asian are you?’ or ‘Where are you from?’ This automatically makes me the ‘other’ and not seen as American. Even within the APIDA community, South Asians are overlooked as “Asian”.”How important is representation, specifically APIDA representation, in organizational leadership positions?“I want to say that it is important to have someone who looks like you in leadership roles, and it is, but those leaders may not share the same beliefs as you. Certain privileges such as wealth, resources, or lack of interaction with lower-socioeconomic-status Asian Americans may cause a difference in community politics. I do not think the bamboo ceiling is acceptable, but the company you work for plays a big part in your politics and belief alignment.”How do you feel about code-switching, and have you ever felt it necessary to code-switch?“I like sharing South Asian terms or connecting with others that have similar heritage and culture. A workplace that is welcoming to going into this sort of breakout is refreshing and makes space for us. However, having to code-switch could also mean a workplace that is not conducive and welcoming of other cultures. “Finally, in your opinion, what long-term strategies can create lasting change in the workplace and ensure support, equality, and inclusion for APIDA individuals?“Prior to a career in financial aid, I did a lot of research related to the post-9/11 immigration of the South Asian diaspora. This background made me heavily rely on grassroots organizing. Hire the people that want to innovate, hire the changemakers, hire the button-pushers. Reduce reliance on whiteness as change. This will become natural for the organization and become organizational change. Change comes from us on the ground.”A huge thank you to Arbeena Thapa for sharing her experiences, and being vulnerable with us. Your words were inspiring and the opportunity to understand your perspective more has been valuable. We hope we can become better support for the APIDA community as we learn and grow on our journey of cultivating inclusive growth.'}"
      ]
     },
     "execution_count": 17,
     "metadata": {},
     "output_type": "execute_result"
    }
   ],
   "source": [
    "heritage_blog"
   ]
  },
  {
   "cell_type": "markdown",
   "id": "3f760bba-82d5-4fcf-ac0e-14f39562069a",
   "metadata": {},
   "source": [
    "## 2nd Blog Post"
   ]
  },
  {
   "cell_type": "code",
   "execution_count": 18,
   "id": "7d511dcc-6884-426b-b576-53a3586fef5b",
   "metadata": {},
   "outputs": [],
   "source": [
    "# Get the second URL from the 'new_links' list and assign it to the variable 'url'\n",
    "url = new_links[1]"
   ]
  },
  {
   "cell_type": "code",
   "execution_count": 19,
   "id": "b82665b1-e135-4203-b57c-5d2c03698e8a",
   "metadata": {},
   "outputs": [
    {
     "data": {
      "text/plain": [
       "<Response [200]>"
      ]
     },
     "execution_count": 19,
     "metadata": {},
     "output_type": "execute_result"
    }
   ],
   "source": [
    "# Send an HTTP GET request to the specified URL with the defined User-Agent header\n",
    "response = requests.get(url, headers=headers)\n",
    "response"
   ]
  },
  {
   "cell_type": "code",
   "execution_count": 20,
   "id": "097fdfdf-2508-4451-a6b8-404ea2be1143",
   "metadata": {
    "scrolled": true
   },
   "outputs": [],
   "source": [
    "# Create a BeautifulSoup object to parse the HTML content\n",
    "soup = BeautifulSoup(response.content, 'html.parser')"
   ]
  },
  {
   "cell_type": "code",
   "execution_count": 21,
   "id": "b5b1fe94-26f7-4241-acea-c07a7c1b2ee8",
   "metadata": {},
   "outputs": [
    {
     "data": {
      "text/plain": [
       "'Women in tech: Panelist Spotlight – Magdalena Rahn'"
      ]
     },
     "execution_count": 21,
     "metadata": {},
     "output_type": "execute_result"
    }
   ],
   "source": [
    "# Find all the HTML elements with the 'h1' tag in the parsed HTML content and assign it to title\n",
    "title = soup.find('h1').get_text()\n",
    "title"
   ]
  },
  {
   "cell_type": "code",
   "execution_count": 22,
   "id": "77da006a-cd5a-49ff-a361-ff3d249c547b",
   "metadata": {
    "scrolled": true
   },
   "outputs": [],
   "source": [
    "# Select the 'entry-content' class within the parsed HTML content and retrieve the first element ([0])\n",
    "# Within the selected content, find all 'p' (paragraph) elements and store them in the 'content' variable\n",
    "content = soup.select('.entry-content')[0].find_all('p')"
   ]
  },
  {
   "cell_type": "code",
   "execution_count": 23,
   "id": "f3ecd775-ab6e-4653-a669-791f19558b10",
   "metadata": {},
   "outputs": [],
   "source": [
    "# Initialize an empty list to store cleaned content\n",
    "clean_content = []\n",
    "\n",
    "# Loop through each 'p' (paragraph) element in the 'content' list\n",
    "for p in content:\n",
    "    # Extract the text content from the 'p' element and append it to the 'clean_content' list\n",
    "    clean_content.append(p.get_text())"
   ]
  },
  {
   "cell_type": "code",
   "execution_count": 24,
   "id": "4532247a-86be-45f1-a5cf-57dd84f89e0c",
   "metadata": {},
   "outputs": [],
   "source": [
    "# Join the cleaned content in the 'clean_content' list into a single string\n",
    "content = ''.join(clean_content)"
   ]
  },
  {
   "cell_type": "code",
   "execution_count": 25,
   "id": "78be0848-1fa1-4707-8ec0-673982f4d3d2",
   "metadata": {},
   "outputs": [],
   "source": [
    "# Create a dictionary 'WIT_MR' with 'title' and 'content' as keys\n",
    "WIT_MR = {\n",
    "    'title': title,      # Store the title in the 'title' key\n",
    "    'content': content   # Store the content in the 'content' key\n",
    "}"
   ]
  },
  {
   "cell_type": "code",
   "execution_count": 26,
   "id": "c736daa2-7b5f-4f77-8706-b3df5c27cd6b",
   "metadata": {},
   "outputs": [
    {
     "data": {
      "text/plain": [
       "{'title': 'Women in tech: Panelist Spotlight – Magdalena Rahn',\n",
       " 'content': 'Codeup is hosting a Women in Tech Panel in honor of Women’s History Month on March 29th, 2023! To further celebrate, we’d like to spotlight each of our panelists leading up to the discussion to learn a bit about their respective experiences as women in the tech industry!Meet Magdalena!Magdalena Rahn is a current Codeup student in a Data Science cohort in San Antonio, Texas. She has a professional background in cross-cultural communications, international business development, the wine industry and journalism. After serving in the US Navy, she decided to complement her professional skill set by attending the Data Science program at Codeup; she is set to graduate in March 2023. Magdalena is fluent in French, Bulgarian, Chinese-Mandarin, Spanish and Italian.We asked Magdalena how Codeup impacted her career, and she replied “Codeup has provided a solid foundation in analytical processes, programming and data science methods, and it’s been an encouragement to have such supportive instructors and wonderful classmates.”Don’t forget to tune in on March 29th to sit in on an insightful conversation with Magdalena.'}"
      ]
     },
     "execution_count": 26,
     "metadata": {},
     "output_type": "execute_result"
    }
   ],
   "source": [
    "WIT_MR"
   ]
  },
  {
   "cell_type": "markdown",
   "id": "a81ab4df-6500-434b-b191-d367363430bb",
   "metadata": {},
   "source": [
    "## 3rd Blog post"
   ]
  },
  {
   "cell_type": "code",
   "execution_count": 27,
   "id": "135c2798-419e-4f4e-8d63-1f69cef03486",
   "metadata": {},
   "outputs": [],
   "source": [
    "# Get the third URL from the 'new_links' list and assign it to the variable 'url'\n",
    "url = new_links[2]"
   ]
  },
  {
   "cell_type": "code",
   "execution_count": 28,
   "id": "97f156d4-6e55-43c2-87ce-2a26134c45f0",
   "metadata": {},
   "outputs": [
    {
     "data": {
      "text/plain": [
       "<Response [200]>"
      ]
     },
     "execution_count": 28,
     "metadata": {},
     "output_type": "execute_result"
    }
   ],
   "source": [
    "# Send an HTTP GET request to the specified URL with the defined User-Agent header\n",
    "response = requests.get(url, headers=headers)\n",
    "response"
   ]
  },
  {
   "cell_type": "code",
   "execution_count": 29,
   "id": "bcb527da-7b09-4919-bc1e-b2124497e12f",
   "metadata": {
    "scrolled": true
   },
   "outputs": [],
   "source": [
    "# Create a BeautifulSoup object to parse the HTML content\n",
    "soup = BeautifulSoup(response.content, 'html.parser')"
   ]
  },
  {
   "cell_type": "code",
   "execution_count": 30,
   "id": "322ea36c-06ca-49ea-b2b2-7c4ebbe9d990",
   "metadata": {},
   "outputs": [],
   "source": [
    "# Find all the HTML elements with the 'h1' tag in the parsed HTML content and assign it to title\n",
    "title = soup.find('h1').get_text()"
   ]
  },
  {
   "cell_type": "code",
   "execution_count": 31,
   "id": "e41001ca-3c33-4290-ad5f-c7cc79640892",
   "metadata": {
    "scrolled": true
   },
   "outputs": [],
   "source": [
    "# Select the 'entry-content' class within the parsed HTML content and retrieve the first element ([0])\n",
    "# Within the selected content, find all 'p' (paragraph) elements and store them in the 'content' variable\n",
    "content = soup.select('.entry-content')[0].find_all('p')"
   ]
  },
  {
   "cell_type": "code",
   "execution_count": 32,
   "id": "3822ad2f-9d0b-4435-a4d6-6e8b4f29e304",
   "metadata": {},
   "outputs": [],
   "source": [
    "# Initialize an empty list to store cleaned content\n",
    "clean_content = []\n",
    "\n",
    "# Loop through each 'p' (paragraph) element in the 'content' list\n",
    "for p in content:\n",
    "    # Extract the text content from the 'p' element and append it to the 'clean_content' list\n",
    "    clean_content.append(p.get_text())"
   ]
  },
  {
   "cell_type": "code",
   "execution_count": 33,
   "id": "aac282e3-4c55-4de9-99ed-901d896b16ba",
   "metadata": {},
   "outputs": [],
   "source": [
    "content = ''.join(clean_content)"
   ]
  },
  {
   "cell_type": "code",
   "execution_count": 34,
   "id": "297c154e-df1a-49e4-bb96-5ee8a4416687",
   "metadata": {},
   "outputs": [],
   "source": [
    "# Create a dictionary 'WIT_RRM' with 'title' and 'content' as keys\n",
    "WIT_RRM = {\n",
    "    'title': title,      # Store the title in the 'title' key\n",
    "    'content': content   # Store the content in the 'content' key\n",
    "}"
   ]
  },
  {
   "cell_type": "code",
   "execution_count": 35,
   "id": "72fd8017-98cc-46ab-992e-7b5d8a34bfb9",
   "metadata": {
    "scrolled": true
   },
   "outputs": [
    {
     "data": {
      "text/plain": [
       "{'title': 'Women in tech: Panelist Spotlight – Rachel Robbins-Mayhill',\n",
       " 'content': 'Codeup is hosting a Women in Tech Panel in honor of Women’s History Month on March 29th, 2023! To further celebrate, we’d like to spotlight each of our panelists leading up to the discussion to learn a bit about their respective experiences as women in the tech industry! Meet Rachel!\\nRachel Robbins-Mayhill is a Decision Science Analyst I in San Antonio, Texas. Rachel has had a varied career that includes counseling, teaching, training, community development, and military operations. Her focus has always been on assessing needs, identifying solutions, and educating individuals and groups on aligning needs and solutions in different contexts. Rachel’s passion for data science stems from her belief that data is a powerful tool for communicating patterns that can lead to hope and growth in the future.In June 2022, Rachel graduated from Codeup’s Innis cohort, where she honed her skills in data science. Shortly after, she started working as a Data Science Technical Writer with Apex Systems as a Contractor for USAA in July 2022. Her unconventional role allowed her to understand where her skills could be best utilized to support USAA in a non-contract role.Rachel recently joined USAA’s Data Science Delivery team as a Decision Science Analyst I in February 2023. The team is focused on delivering machine learning models for fraud prevention, and Rachel’s particular role centers around providing strategic process solutions for the team in collaboration with Operational and Model Risk components.In addition to her career, Rachel is currently pursuing a master’s degree in Applied Data Science from Syracuse University, further expanding her knowledge and skills in the field. Rachel is passionate about collaborating with individuals who share her belief in the potential of others and strive to achieve growth through logical, informed action. She welcomes LinkedIn connections and is excited about supporting the network of CodeUp alumni!We asked Rachel how Codeup impacted her career, and she replied “Codeup delivered a comprehensive education in all facets of the data science pipeline, laying a strong foundation for me to build upon. Through repeated hands-on practice, I developed a reliable process that was immediately applicable in my job. Collaborative group projects were instrumental in helping me hone my skills in project management, allowing me to navigate complex data science projects with comfortability. Thanks to this invaluable experience, I was able to make significant strides in my career within just six months of graduating from Codeup.”Don’t forget to tune in on March 29th to sit in on an insightful conversation.'}"
      ]
     },
     "execution_count": 35,
     "metadata": {},
     "output_type": "execute_result"
    }
   ],
   "source": [
    "WIT_RRM"
   ]
  },
  {
   "cell_type": "markdown",
   "id": "8ee4abe1-c903-4c4a-bd02-4e4a82f50b8e",
   "metadata": {},
   "source": [
    "## 4th Blog Post"
   ]
  },
  {
   "cell_type": "code",
   "execution_count": 36,
   "id": "bd528a9d-ef0c-4f99-9c51-898925ba2536",
   "metadata": {},
   "outputs": [],
   "source": [
    "# Get the fourth URL from the 'new_links' list and assign it to the variable 'url'\n",
    "url = new_links[3]"
   ]
  },
  {
   "cell_type": "code",
   "execution_count": 37,
   "id": "70fc51b7-feeb-47eb-ba0d-f419cfdbd722",
   "metadata": {},
   "outputs": [
    {
     "data": {
      "text/plain": [
       "<Response [200]>"
      ]
     },
     "execution_count": 37,
     "metadata": {},
     "output_type": "execute_result"
    }
   ],
   "source": [
    "# Send an HTTP GET request to the specified URL with the defined User-Agent header\n",
    "response = requests.get(url, headers=headers)\n",
    "response"
   ]
  },
  {
   "cell_type": "code",
   "execution_count": 38,
   "id": "1f7aaccf-e102-440b-988a-234ec157ece7",
   "metadata": {},
   "outputs": [],
   "source": [
    "# Create a BeautifulSoup object to parse the HTML content\n",
    "soup = BeautifulSoup(response.content, 'html.parser')"
   ]
  },
  {
   "cell_type": "code",
   "execution_count": 39,
   "id": "4ac995a1-d511-4580-9587-5c8338ea46c7",
   "metadata": {},
   "outputs": [
    {
     "data": {
      "text/plain": [
       "'Women in Tech: Panelist Spotlight – Sarah Mellor'"
      ]
     },
     "execution_count": 39,
     "metadata": {},
     "output_type": "execute_result"
    }
   ],
   "source": [
    "# Find all the HTML elements with the 'h1' tag in the parsed HTML content and assign it to title\n",
    "title = soup.find('h1').get_text()\n",
    "title"
   ]
  },
  {
   "cell_type": "code",
   "execution_count": 40,
   "id": "aebe38ca-e3a1-4369-9852-03a470d37f46",
   "metadata": {},
   "outputs": [],
   "source": [
    "# Select the 'entry-content' class within the parsed HTML content and retrieve the first element ([0])\n",
    "# Within the selected content, find all 'p' (paragraph) elements and store them in the 'content' variable\n",
    "content = soup.select('.entry-content')[0].find_all('p')"
   ]
  },
  {
   "cell_type": "code",
   "execution_count": 41,
   "id": "1060daf5-c045-4a60-8dd7-205cc6ba9add",
   "metadata": {},
   "outputs": [],
   "source": [
    "# Initialize an empty list to store cleaned content\n",
    "clean_content = []\n",
    "\n",
    "# Loop through each 'p' (paragraph) element in the 'content' list\n",
    "for p in content:\n",
    "    # Extract the text content from the 'p' element and append it to the 'clean_content' list\n",
    "    clean_content.append(p.get_text())"
   ]
  },
  {
   "cell_type": "code",
   "execution_count": 42,
   "id": "52a02166-d305-426b-8107-e6a15442c98e",
   "metadata": {},
   "outputs": [],
   "source": [
    "content = ''.join(clean_content)"
   ]
  },
  {
   "cell_type": "code",
   "execution_count": 43,
   "id": "8ea856c6-4281-4ca5-aadb-1fe9b78b0b6f",
   "metadata": {},
   "outputs": [],
   "source": [
    "WIT_SM = {'title' : title,\n",
    "          'content' : content\n",
    "    \n",
    "}"
   ]
  },
  {
   "cell_type": "code",
   "execution_count": 44,
   "id": "3353645e-190f-4d80-8e44-404b5ce354fb",
   "metadata": {},
   "outputs": [
    {
     "data": {
      "text/plain": [
       "{'title': 'Women in Tech: Panelist Spotlight – Sarah Mellor',\n",
       " 'content': 'Codeup is hosting a Women in Tech Panel in honor of Women’s History Month on March 29th, 2023! To further celebrate, we’d like to spotlight each of our panelists leading up to the discussion to learn a bit about their respective experiences as women in the tech industry!Meet Sarah!Sarah Mellor currently works as the Director of People Operations. She joined Codeup four and a half years ago as an Admissions Manager. She went on to build out and lead the Marketing and Admissions team, while picking up People Ops tasks and projects here and there until moving over to lead the People Ops team two years ago. Prior to Codeup, she worked at education-focused non-profits in Washington, DC and Boulder, Colorado. She graduated from Wake Forest University.We asked Sarah how Codeup has impacted her career, and her response was “I have absolutely loved having the privilege to grow alongside Codeup. In my time here across multiple different roles and departments, I’ve seen a lot of change. The consistent things have always been the high quality of passionate and hardworking people I get to work with; the impactful mission we get to work on; and the inspiring students who trust us with their career change.”Don’t forget to tune in on March 29th to sit in on an insightful conversation.'}"
      ]
     },
     "execution_count": 44,
     "metadata": {},
     "output_type": "execute_result"
    }
   ],
   "source": [
    "WIT_SM"
   ]
  },
  {
   "cell_type": "markdown",
   "id": "d22df92e-f602-4f47-a53e-e44608215520",
   "metadata": {},
   "source": [
    "## 5th Blog Post"
   ]
  },
  {
   "cell_type": "code",
   "execution_count": 45,
   "id": "179b4d43-bb9a-443d-93b2-502fbfc3c3ef",
   "metadata": {},
   "outputs": [],
   "source": [
    "# Get the fourth URL from the 'new_links' list and assign it to the variable 'url'\n",
    "url = new_links[4]"
   ]
  },
  {
   "cell_type": "code",
   "execution_count": 46,
   "id": "f2778407-69ef-4ad0-8cb6-7b6e8ad2bc5c",
   "metadata": {},
   "outputs": [
    {
     "data": {
      "text/plain": [
       "<Response [200]>"
      ]
     },
     "execution_count": 46,
     "metadata": {},
     "output_type": "execute_result"
    }
   ],
   "source": [
    "# Send an HTTP GET request to the specified URL with the defined User-Agent header\n",
    "response = requests.get(url, headers=headers)\n",
    "response"
   ]
  },
  {
   "cell_type": "code",
   "execution_count": 47,
   "id": "0ed2c130-150b-4213-8c0a-801b32a56c1d",
   "metadata": {},
   "outputs": [],
   "source": [
    "# Create a BeautifulSoup object to parse the HTML content\n",
    "soup = BeautifulSoup(response.content, 'html.parser')"
   ]
  },
  {
   "cell_type": "code",
   "execution_count": 48,
   "id": "8917c773-53a1-403d-bf26-96a333f51760",
   "metadata": {},
   "outputs": [
    {
     "data": {
      "text/plain": [
       "'Women in Tech: Panelist Spotlight – Madeleine Capper'"
      ]
     },
     "execution_count": 48,
     "metadata": {},
     "output_type": "execute_result"
    }
   ],
   "source": [
    "# Find all the HTML elements with the 'h1' tag in the parsed HTML content and assign it to title\n",
    "title = soup.find('h1').get_text()\n",
    "title"
   ]
  },
  {
   "cell_type": "code",
   "execution_count": 49,
   "id": "15a632a6-71c0-40ea-a379-047b9616fcfc",
   "metadata": {},
   "outputs": [],
   "source": [
    "# Select the 'entry-content' class within the parsed HTML content and retrieve the first element ([0])\n",
    "# Within the selected content, find all 'p' (paragraph) elements and store them in the 'content' variable\n",
    "content = soup.select('.entry-content')[0].find_all('p')"
   ]
  },
  {
   "cell_type": "code",
   "execution_count": 50,
   "id": "baea8269-3c41-4898-b119-c6ef4ca7dba7",
   "metadata": {},
   "outputs": [],
   "source": [
    "# Initialize an empty list to store cleaned content\n",
    "clean_content = []\n",
    "\n",
    "# Loop through each 'p' (paragraph) element in the 'content' list\n",
    "for p in content:\n",
    "    # Extract the text content from the 'p' element and append it to the 'clean_content' list\n",
    "    clean_content.append(p.get_text())"
   ]
  },
  {
   "cell_type": "code",
   "execution_count": 51,
   "id": "da506406-e878-410c-bf17-7ffb19b9f194",
   "metadata": {},
   "outputs": [],
   "source": [
    "content = ''.join(clean_content)"
   ]
  },
  {
   "cell_type": "code",
   "execution_count": 52,
   "id": "02dd9121-6889-4b3a-8bdb-03784150d7b4",
   "metadata": {},
   "outputs": [],
   "source": [
    "WIT_MC = { 'title' : title,\n",
    "          'content' : content\n",
    "    \n",
    "}"
   ]
  },
  {
   "cell_type": "code",
   "execution_count": 53,
   "id": "e06c4c37-1b53-4757-99d0-f6caa864592d",
   "metadata": {},
   "outputs": [
    {
     "data": {
      "text/plain": [
       "{'title': 'Women in Tech: Panelist Spotlight – Madeleine Capper',\n",
       " 'content': 'Codeup is hosting a Women in Tech Panel in honor of Women’s History Month on March 29th, 2023! To further celebrate, we’d like to spotlight each of our panelists leading up to the discussion to learn a bit about their respective experiences as women in the tech industry!Meet Madeleine!Madeleine Capper is a Data Scientist in San Antonio, Texas. A long-standing San Antonio resident, she studied mathematics at the University of Texas San Antonio and has worked as a Data Scientist for Booz Allen Hamilton. Madeleine currently teaches Data Science at Codeup, where she works daily with burgeoning data professionals to help them actualize their career aspirations through technical education.Madeleine attended Codeup as a student in early 2019 as a pupil in the very first Codeup Data Science cohort. The program proved immediately effective and she was the first student to obtain a data career out of the program. After working at Booz Allen Hamilton, Madeleine’s passion for education in conjunction with her appreciation for Codeup’s capacity for transformative life change brought her back to the institution in an instructional capacity, where she has been teaching for two years.Don’t forget to tune in on March 29th to sit in on an insightful conversation.'}"
      ]
     },
     "execution_count": 53,
     "metadata": {},
     "output_type": "execute_result"
    }
   ],
   "source": [
    "WIT_MC"
   ]
  },
  {
   "cell_type": "code",
   "execution_count": 54,
   "id": "0741d2a6-f728-4338-b5e0-0ae70d4d7840",
   "metadata": {},
   "outputs": [
    {
     "data": {
      "text/plain": [
       "'Women in Tech'"
      ]
     },
     "execution_count": 54,
     "metadata": {},
     "output_type": "execute_result"
    }
   ],
   "source": [
    "title[0:13]"
   ]
  },
  {
   "cell_type": "markdown",
   "id": "649a8efb-da6b-4600-ba8a-d7b462d831cd",
   "metadata": {},
   "source": [
    "### function"
   ]
  },
  {
   "cell_type": "code",
   "execution_count": null,
   "id": "968e147a-6929-4ef1-bd5a-cf79dc931b08",
   "metadata": {},
   "outputs": [],
   "source": []
  },
  {
   "cell_type": "code",
   "execution_count": 55,
   "id": "67ba9a8f-97b8-491e-b2c1-8173129f972e",
   "metadata": {},
   "outputs": [],
   "source": [
    "def get_new_links(url, headers, sc1, sc2, sc3):\n",
    "    # Send an HTTP GET request to the specified URL with the defined User-Agent header\n",
    "    response = requests.get(url, headers=headers)\n",
    "    # Create a BeautifulSoup object to parse the HTML content\n",
    "    soup = BeautifulSoup(response.content, 'html.parser')\n",
    "    # Find all the HTML elements with the 'h2' tag in the parsed HTML content\n",
    "    links = soup.find_all(sc1)\n",
    "    # Initialize an empty list to store the extracted links\n",
    "    new_links = []\n",
    "\n",
    "    # Loop through each 'article' element in the 'links' list\n",
    "    for article in links:\n",
    "        # Check if the 'article' contains an 'a' (anchor) element\n",
    "        if article.find(sc2):\n",
    "            # Print the 'href' attribute of the 'a' element (the link)\n",
    "            print(article.find(sc2).get(sc3))\n",
    "            # Append the link to the 'new_links' list\n",
    "            new_links.append(article.find(sc2).get(sc3))\n",
    "\n",
    "    return new_links"
   ]
  },
  {
   "cell_type": "code",
   "execution_count": 56,
   "id": "e5f0e878-9723-4d1c-ae5e-27319d6c7279",
   "metadata": {},
   "outputs": [
    {
     "name": "stdout",
     "output_type": "stream",
     "text": [
      "https://codeup.edu/featured/apida-heritage-month/\n",
      "https://codeup.edu/featured/women-in-tech-panelist-spotlight/\n",
      "https://codeup.edu/featured/women-in-tech-rachel-robbins-mayhill/\n",
      "https://codeup.edu/codeup-news/women-in-tech-panelist-spotlight-sarah-mellor/\n",
      "https://codeup.edu/events/women-in-tech-madeleine/\n",
      "https://codeup.edu/codeup-news/panelist-spotlight-4/\n",
      "['https://codeup.edu/featured/apida-heritage-month/', 'https://codeup.edu/featured/women-in-tech-panelist-spotlight/', 'https://codeup.edu/featured/women-in-tech-rachel-robbins-mayhill/', 'https://codeup.edu/codeup-news/women-in-tech-panelist-spotlight-sarah-mellor/', 'https://codeup.edu/events/women-in-tech-madeleine/', 'https://codeup.edu/codeup-news/panelist-spotlight-4/']\n"
     ]
    }
   ],
   "source": [
    "url = 'https://codeup.edu/blog'\n",
    "headers = {'User-Agent': 'Codeup Data Science'}\n",
    "new_links = get_new_links(url, headers, 'h2', 'a', 'href')\n",
    "print(new_links)"
   ]
  },
  {
   "cell_type": "code",
   "execution_count": 57,
   "id": "4e9d44e4-5579-4132-a6f8-c82b912f25a9",
   "metadata": {},
   "outputs": [],
   "source": [
    "def get_article_data(new_links, headers):\n",
    "    article_list = []\n",
    "    \n",
    "    for url in new_links:\n",
    "        response = requests.get(url, headers=headers)\n",
    "        soup = BeautifulSoup(response.content, 'html.parser')\n",
    "\n",
    "        # Extract the title\n",
    "        title = soup.find('h1')\n",
    "        if title and title.get_text() != \"Example Domain\":\n",
    "            title_text = title.get_text()\n",
    "        else:\n",
    "            title_text = \"Title Not Found\"\n",
    "\n",
    "        # Extract the content\n",
    "        content = soup.select('.entry-content')\n",
    "        if content:\n",
    "            content_text = ''.join([p.get_text() for p in content[0].find_all('p')])\n",
    "        else:\n",
    "            content_text = \"Content Not Found\"\n",
    "\n",
    "        article_data = {\n",
    "            'title': title_text,\n",
    "            'content': content_text\n",
    "        }\n",
    "\n",
    "        article_list.append(article_data)\n",
    "    \n",
    "    return article_list"
   ]
  },
  {
   "cell_type": "code",
   "execution_count": 58,
   "id": "c8c949a8-44bd-4fc7-bac5-c764fd9c6be2",
   "metadata": {},
   "outputs": [
    {
     "data": {
      "text/plain": [
       "[{'title': 'Spotlight on APIDA Voices: Celebrating Heritage and Inspiring Change ft. Arbeena Thapa',\n",
       "  'content': 'May is traditionally known as Asian American and Pacific Islander (AAPI) Heritage Month. This month we celebrate the history and contributions made possible by our AAPI friends, family, and community. We also examine our level of support and seek opportunities to better understand the AAPI community.In an effort to address real concerns and experiences, we sat down with Arbeena Thapa, one of Codeup’s Financial Aid and Enrollment Managers.Arbeena identifies as Nepali American and Desi. Arbeena’s parents immigrated to Texas in 1988 for better employment and educational opportunities. Arbeena’s older sister was five when they made the move to the US. Arbeena was born later, becoming the first in her family to be a US citizen.At Codeup we take our efforts at inclusivity very seriously. After speaking with Arbeena, we were taught that the term AAPI excludes Desi-American individuals. Hence, we will now use the term Asian Pacific Islander Desi American (APIDA).Here is how the rest of our conversation with Arbeena went!How do you celebrate or connect with your heritage and cultural traditions?“I celebrate Nepal’s version of Christmas or Dashain. This is a nine-day celebration also known as Dussehra. I grew up as Hindu and I identify as Hindu, this is a very large part of my heritage. ““Other ways I connect with my culture include sharing food! Momos are South Asian Dumplings and they’re my favorite to make and share.”“On my Asian American side, I am an advocate of immigrant justice and erasure within APIDA social or political movements. I participate in events to embrace my identity such as immigrant justice advocacy because I come from a mixed-status family. I’ve always been in a community with undocumented Asian immigrants. .”What are some of the challenges you have faced as an APIDA individual, personally or professionally?“I often struggle with being gendered as compliant or a pushover. Professionally, I am often stereotyped as meek, so I’ve been overlooked for leadership roles. We are seen as perpetually foreign; people tend to other us in that way, yet put us on a pedestal for what a model minority looks like. This has made me hesitant to share my heritage in the past because these assumptions get mapped onto me. ”Can you describe some common barriers of entry that APIDA individuals, specifically women may face when trying to enter or advance in the workplace?“Being overlooked for leadership. In the past, I have not been viewed as a leader. People sometimes have preconceived stereotypes of Asian women not being able to be bold, or being vocal can be mistaken for being too emotional. “How do you believe microaggressions impact APIDA individuals in the workplace? Can you provide examples of such microaggressions?“Erasure is big. To me, only saying ‘Merry Christmas’ isn’t inclusive to other religions. People are often resistant to saying ‘Happy Holidays,’ but saying Merry Christmas excludes, and does not appreciate my heritage. ““Often microaggressions are not micro at all. They typically are not aggressive racialized violence, but the term ‘micro’ minimizes impact.”“Some that I’ve heard are ‘What kind of Asian are you?’ or ‘Where are you from?’ This automatically makes me the ‘other’ and not seen as American. Even within the APIDA community, South Asians are overlooked as “Asian”.”How important is representation, specifically APIDA representation, in organizational leadership positions?“I want to say that it is important to have someone who looks like you in leadership roles, and it is, but those leaders may not share the same beliefs as you. Certain privileges such as wealth, resources, or lack of interaction with lower-socioeconomic-status Asian Americans may cause a difference in community politics. I do not think the bamboo ceiling is acceptable, but the company you work for plays a big part in your politics and belief alignment.”How do you feel about code-switching, and have you ever felt it necessary to code-switch?“I like sharing South Asian terms or connecting with others that have similar heritage and culture. A workplace that is welcoming to going into this sort of breakout is refreshing and makes space for us. However, having to code-switch could also mean a workplace that is not conducive and welcoming of other cultures. “Finally, in your opinion, what long-term strategies can create lasting change in the workplace and ensure support, equality, and inclusion for APIDA individuals?“Prior to a career in financial aid, I did a lot of research related to the post-9/11 immigration of the South Asian diaspora. This background made me heavily rely on grassroots organizing. Hire the people that want to innovate, hire the changemakers, hire the button-pushers. Reduce reliance on whiteness as change. This will become natural for the organization and become organizational change. Change comes from us on the ground.”A huge thank you to Arbeena Thapa for sharing her experiences, and being vulnerable with us. Your words were inspiring and the opportunity to understand your perspective more has been valuable. We hope we can become better support for the APIDA community as we learn and grow on our journey of cultivating inclusive growth.'},\n",
       " {'title': 'Women in tech: Panelist Spotlight – Magdalena Rahn',\n",
       "  'content': 'Codeup is hosting a Women in Tech Panel in honor of Women’s History Month on March 29th, 2023! To further celebrate, we’d like to spotlight each of our panelists leading up to the discussion to learn a bit about their respective experiences as women in the tech industry!Meet Magdalena!Magdalena Rahn is a current Codeup student in a Data Science cohort in San Antonio, Texas. She has a professional background in cross-cultural communications, international business development, the wine industry and journalism. After serving in the US Navy, she decided to complement her professional skill set by attending the Data Science program at Codeup; she is set to graduate in March 2023. Magdalena is fluent in French, Bulgarian, Chinese-Mandarin, Spanish and Italian.We asked Magdalena how Codeup impacted her career, and she replied “Codeup has provided a solid foundation in analytical processes, programming and data science methods, and it’s been an encouragement to have such supportive instructors and wonderful classmates.”Don’t forget to tune in on March 29th to sit in on an insightful conversation with Magdalena.'},\n",
       " {'title': 'Women in tech: Panelist Spotlight – Rachel Robbins-Mayhill',\n",
       "  'content': 'Codeup is hosting a Women in Tech Panel in honor of Women’s History Month on March 29th, 2023! To further celebrate, we’d like to spotlight each of our panelists leading up to the discussion to learn a bit about their respective experiences as women in the tech industry! Meet Rachel!\\nRachel Robbins-Mayhill is a Decision Science Analyst I in San Antonio, Texas. Rachel has had a varied career that includes counseling, teaching, training, community development, and military operations. Her focus has always been on assessing needs, identifying solutions, and educating individuals and groups on aligning needs and solutions in different contexts. Rachel’s passion for data science stems from her belief that data is a powerful tool for communicating patterns that can lead to hope and growth in the future.In June 2022, Rachel graduated from Codeup’s Innis cohort, where she honed her skills in data science. Shortly after, she started working as a Data Science Technical Writer with Apex Systems as a Contractor for USAA in July 2022. Her unconventional role allowed her to understand where her skills could be best utilized to support USAA in a non-contract role.Rachel recently joined USAA’s Data Science Delivery team as a Decision Science Analyst I in February 2023. The team is focused on delivering machine learning models for fraud prevention, and Rachel’s particular role centers around providing strategic process solutions for the team in collaboration with Operational and Model Risk components.In addition to her career, Rachel is currently pursuing a master’s degree in Applied Data Science from Syracuse University, further expanding her knowledge and skills in the field. Rachel is passionate about collaborating with individuals who share her belief in the potential of others and strive to achieve growth through logical, informed action. She welcomes LinkedIn connections and is excited about supporting the network of CodeUp alumni!We asked Rachel how Codeup impacted her career, and she replied “Codeup delivered a comprehensive education in all facets of the data science pipeline, laying a strong foundation for me to build upon. Through repeated hands-on practice, I developed a reliable process that was immediately applicable in my job. Collaborative group projects were instrumental in helping me hone my skills in project management, allowing me to navigate complex data science projects with comfortability. Thanks to this invaluable experience, I was able to make significant strides in my career within just six months of graduating from Codeup.”Don’t forget to tune in on March 29th to sit in on an insightful conversation.'},\n",
       " {'title': 'Women in Tech: Panelist Spotlight – Sarah Mellor',\n",
       "  'content': 'Codeup is hosting a Women in Tech Panel in honor of Women’s History Month on March 29th, 2023! To further celebrate, we’d like to spotlight each of our panelists leading up to the discussion to learn a bit about their respective experiences as women in the tech industry!Meet Sarah!Sarah Mellor currently works as the Director of People Operations. She joined Codeup four and a half years ago as an Admissions Manager. She went on to build out and lead the Marketing and Admissions team, while picking up People Ops tasks and projects here and there until moving over to lead the People Ops team two years ago. Prior to Codeup, she worked at education-focused non-profits in Washington, DC and Boulder, Colorado. She graduated from Wake Forest University.We asked Sarah how Codeup has impacted her career, and her response was “I have absolutely loved having the privilege to grow alongside Codeup. In my time here across multiple different roles and departments, I’ve seen a lot of change. The consistent things have always been the high quality of passionate and hardworking people I get to work with; the impactful mission we get to work on; and the inspiring students who trust us with their career change.”Don’t forget to tune in on March 29th to sit in on an insightful conversation.'},\n",
       " {'title': 'Women in Tech: Panelist Spotlight – Madeleine Capper',\n",
       "  'content': 'Codeup is hosting a Women in Tech Panel in honor of Women’s History Month on March 29th, 2023! To further celebrate, we’d like to spotlight each of our panelists leading up to the discussion to learn a bit about their respective experiences as women in the tech industry!Meet Madeleine!Madeleine Capper is a Data Scientist in San Antonio, Texas. A long-standing San Antonio resident, she studied mathematics at the University of Texas San Antonio and has worked as a Data Scientist for Booz Allen Hamilton. Madeleine currently teaches Data Science at Codeup, where she works daily with burgeoning data professionals to help them actualize their career aspirations through technical education.Madeleine attended Codeup as a student in early 2019 as a pupil in the very first Codeup Data Science cohort. The program proved immediately effective and she was the first student to obtain a data career out of the program. After working at Booz Allen Hamilton, Madeleine’s passion for education in conjunction with her appreciation for Codeup’s capacity for transformative life change brought her back to the institution in an instructional capacity, where she has been teaching for two years.Don’t forget to tune in on March 29th to sit in on an insightful conversation.'},\n",
       " {'title': 'Black Excellence in Tech: Panelist Spotlight – Wilmarie De La Cruz Mejia',\n",
       "  'content': 'Codeup is hosting a Black Excellence in Tech Panel in honor of Black History Month on February 22, 2023! To further celebrate, we’d like to spotlight each of our panelists leading up to the discussion to learn a bit about their respective experiences as black leaders in the tech industry!\\xa0\\xa0Meet Wilmarie!Wilmarie De\\xa0La Cruz Mejia is a current Codeup student on the path to becoming a Full-Stack Web Developer at our Dallas, TX campus.\\xa0Wilmarie is a veteran expanding her knowledge of programming languages and technologies on her journey with Codeup.\\xa0We asked Wilmarie to share more about her experience at Codeup. She shares, “I was able to meet other people who were passionate about coding and be in a positive learning environment.”We hope you can join us on February 22nd to sit in on an insightful conversation with Wilmarie and all of our panelists!'}]"
      ]
     },
     "execution_count": 58,
     "metadata": {},
     "output_type": "execute_result"
    }
   ],
   "source": [
    "get_article_data(new_links, headers)"
   ]
  },
  {
   "cell_type": "markdown",
   "id": "41741cd7-be44-4385-b5ba-fef249f9a387",
   "metadata": {},
   "source": [
    "### 2)\n",
    "News Articles\n",
    "\n",
    "We will now be scraping text data from inshorts, a website that provides a brief overview of many different topics.\n",
    "\n",
    "Write a function that scrapes the news articles for the following topics:\n",
    "\n",
    "Business  \n",
    "Sports  \n",
    "Technology  \n",
    "Entertainment    \n",
    "The end product of this should be a function named get_news_articles that returns a list of dictionaries, where each dictionary has this shape:\n",
    "{   \n",
    "    'title': 'The article title',   \n",
    "    'content': 'The article content',  \n",
    "    'category': 'business' # for example  \n",
    "}  \n"
   ]
  },
  {
   "cell_type": "code",
   "execution_count": 59,
   "id": "f9eb9e9d-8048-4454-8bda-3e3fd2fbc2d2",
   "metadata": {},
   "outputs": [],
   "source": [
    "# Define the URL to the webpage you want to scrape\n",
    "url = 'https://inshorts.com/'\n",
    "# Define the User-Agent header to be used in the HTTP request\n",
    "headers = {'User-Agent': 'Codeup Data Science'}"
   ]
  },
  {
   "cell_type": "code",
   "execution_count": 60,
   "id": "e67cec06-9cf4-44d9-a598-a37dbeccc584",
   "metadata": {},
   "outputs": [],
   "source": [
    "# Send an HTTP GET request to the specified URL with the defined User-Agent header\n",
    "response = requests.get(url, headers=headers)"
   ]
  },
  {
   "cell_type": "code",
   "execution_count": 61,
   "id": "07bcfff7-a4da-4cf1-b874-a5d6c5c8bf8b",
   "metadata": {},
   "outputs": [],
   "source": [
    "# Create a BeautifulSoup object to parse the HTML content\n",
    "soup = BeautifulSoup(response.content, 'html.parser')"
   ]
  },
  {
   "cell_type": "code",
   "execution_count": 62,
   "id": "076cce4b-fbc6-45e6-a5d2-e04a8fb310d8",
   "metadata": {},
   "outputs": [],
   "source": [
    "# Find all the HTML elements with the 'h2' tag in the parsed HTML content\n",
    "links = soup.find_all('div')"
   ]
  },
  {
   "cell_type": "code",
   "execution_count": null,
   "id": "44803484-330c-4eb5-9e90-ff8f1c7dff09",
   "metadata": {},
   "outputs": [],
   "source": []
  },
  {
   "cell_type": "code",
   "execution_count": 63,
   "id": "6ca6eb02-2d17-498d-87e9-651e69ddd998",
   "metadata": {},
   "outputs": [
    {
     "name": "stdout",
     "output_type": "stream",
     "text": [
      "<a href=\"https://blog.inshorts.com/\" target=\"_blank\">Blog</a>\n",
      "<a href=\"https://blog.inshorts.com/\" target=\"_blank\">Blog</a>\n",
      "<a href=\"https://blog.inshorts.com/\" target=\"_blank\">Blog</a>\n",
      "<a href=\"https://blog.inshorts.com/\" target=\"_blank\">Blog</a>\n",
      "None\n",
      "<a href=\"https://blog.inshorts.com/\" target=\"_blank\">Blog</a>\n",
      "<a href=\"/en/read\" target=\"_blank\">Read Now</a>\n",
      "<a href=\"https://itunes.apple.com/us/app/news-in-shorts/id892146527\" target=\"_blank\"><div class=\"ios_container\"></div></a>\n",
      "None\n",
      "None\n",
      "<a href=\"https://itunes.apple.com/us/app/news-in-shorts/id892146527\" target=\"_blank\"><div class=\"ios_container\"></div></a>\n",
      "None\n",
      "None\n",
      "None\n",
      "None\n",
      "<a href=\"https://itunes.apple.com/us/app/news-in-shorts/id892146527\" target=\"_blank\"><div class=\"ios_container\"></div></a>\n",
      "None\n",
      "None\n",
      "None\n",
      "None\n",
      "None\n",
      "None\n",
      "None\n",
      "None\n",
      "None\n",
      "None\n",
      "None\n",
      "None\n",
      "None\n",
      "None\n",
      "None\n",
      "None\n",
      "None\n",
      "None\n",
      "None\n",
      "None\n",
      "None\n",
      "None\n",
      "None\n",
      "None\n",
      "None\n",
      "None\n",
      "None\n",
      "None\n",
      "None\n",
      "None\n",
      "None\n",
      "None\n",
      "None\n",
      "None\n",
      "None\n",
      "None\n",
      "None\n",
      "None\n",
      "None\n",
      "None\n",
      "None\n",
      "None\n",
      "None\n",
      "None\n",
      "None\n",
      "None\n",
      "None\n",
      "None\n",
      "None\n",
      "None\n",
      "None\n",
      "None\n",
      "None\n",
      "None\n",
      "None\n",
      "None\n",
      "None\n",
      "None\n",
      "None\n",
      "None\n",
      "<a href=\"https://itunes.apple.com/us/app/news-in-shorts/id892146527\" target=\"_blank\"><div class=\"ios_container\"></div></a>\n",
      "<a href=\"https://itunes.apple.com/us/app/news-in-shorts/id892146527\" target=\"_blank\"><div class=\"ios_container\"></div></a>\n",
      "<a href=\"https://itunes.apple.com/us/app/news-in-shorts/id892146527\" target=\"_blank\"><div class=\"ios_container\"></div></a>\n",
      "None\n",
      "None\n",
      "None\n",
      "None\n",
      "<a href=\"/tnc\" target=\"_blank\">Terms &amp; Conditions</a>\n",
      "<a href=\"/tnc\" target=\"_blank\">Terms &amp; Conditions</a>\n",
      "None\n",
      "None\n",
      "None\n",
      "None\n",
      "<a href=\"https://facebook.com/inshortsapp\" target=\"_blank\">Facebook</a>\n"
     ]
    }
   ],
   "source": [
    "# Iterate through each 'h2' element in the 'links' list\n",
    "for article in links:\n",
    "    # Find the first 'a' (anchor) element within each 'h2' element and print it\n",
    "    print(article.find('a'))"
   ]
  },
  {
   "cell_type": "code",
   "execution_count": 64,
   "id": "459d298e-7bc9-4260-8997-3c02f46a5fcb",
   "metadata": {},
   "outputs": [
    {
     "name": "stdout",
     "output_type": "stream",
     "text": [
      "https://blog.inshorts.com/\n",
      "https://blog.inshorts.com/\n",
      "https://blog.inshorts.com/\n",
      "https://blog.inshorts.com/\n",
      "https://blog.inshorts.com/\n",
      "/en/read\n",
      "https://itunes.apple.com/us/app/news-in-shorts/id892146527\n",
      "https://itunes.apple.com/us/app/news-in-shorts/id892146527\n",
      "https://itunes.apple.com/us/app/news-in-shorts/id892146527\n",
      "https://itunes.apple.com/us/app/news-in-shorts/id892146527\n",
      "https://itunes.apple.com/us/app/news-in-shorts/id892146527\n",
      "https://itunes.apple.com/us/app/news-in-shorts/id892146527\n",
      "/tnc\n",
      "/tnc\n",
      "https://facebook.com/inshortsapp\n"
     ]
    }
   ],
   "source": [
    "# Initialize an empty list to store the extracted links\n",
    "new_links = []\n",
    "\n",
    "# Loop through each 'article' element in the 'links' list\n",
    "for article in links:\n",
    "    # Check if the 'article' contains an 'a' (anchor) element\n",
    "    if article.find(\"a\"):\n",
    "        # Print the 'href' attribute of the 'a' element (the link)\n",
    "        print(article.find(\"a\").get(\"href\"))\n",
    "        # Append the link to the 'new_links' list\n",
    "        new_links.append(article.find(\"a\").get(\"href\"))"
   ]
  },
  {
   "cell_type": "code",
   "execution_count": 65,
   "id": "e93bfd45-d0ce-4b71-99ad-dfc21b694adf",
   "metadata": {},
   "outputs": [
    {
     "data": {
      "text/plain": [
       "['https://blog.inshorts.com/',\n",
       " 'https://blog.inshorts.com/',\n",
       " 'https://blog.inshorts.com/',\n",
       " 'https://blog.inshorts.com/',\n",
       " 'https://blog.inshorts.com/',\n",
       " '/en/read',\n",
       " 'https://itunes.apple.com/us/app/news-in-shorts/id892146527',\n",
       " 'https://itunes.apple.com/us/app/news-in-shorts/id892146527',\n",
       " 'https://itunes.apple.com/us/app/news-in-shorts/id892146527',\n",
       " 'https://itunes.apple.com/us/app/news-in-shorts/id892146527',\n",
       " 'https://itunes.apple.com/us/app/news-in-shorts/id892146527',\n",
       " 'https://itunes.apple.com/us/app/news-in-shorts/id892146527',\n",
       " '/tnc',\n",
       " '/tnc',\n",
       " 'https://facebook.com/inshortsapp']"
      ]
     },
     "execution_count": 65,
     "metadata": {},
     "output_type": "execute_result"
    }
   ],
   "source": [
    "new_links"
   ]
  },
  {
   "cell_type": "markdown",
   "id": "aa186e3d-434a-4bb0-a0ab-667ae7d59717",
   "metadata": {},
   "source": [
    "### Business"
   ]
  },
  {
   "cell_type": "code",
   "execution_count": 66,
   "id": "a7792a8f-0c74-4468-9591-783eeb8e2225",
   "metadata": {},
   "outputs": [],
   "source": [
    "# Get the fourth URL from the 'new_links' list and assign it to the variable 'url'\n",
    "url = new_links[0]"
   ]
  },
  {
   "cell_type": "code",
   "execution_count": 67,
   "id": "e63e0388-c95f-4713-b53b-367e8f310f75",
   "metadata": {},
   "outputs": [],
   "source": [
    "# Send an HTTP GET request to the specified URL with the defined User-Agent header\n",
    "response = requests.get(url, headers=headers)"
   ]
  },
  {
   "cell_type": "code",
   "execution_count": 68,
   "id": "f0d7d563-c45c-4d68-ac50-e2b08adf7c40",
   "metadata": {},
   "outputs": [],
   "source": [
    "# Create a BeautifulSoup object to parse the HTML content\n",
    "soup = BeautifulSoup(response.content, 'html.parser')"
   ]
  },
  {
   "cell_type": "code",
   "execution_count": 69,
   "id": "c6355564-bf2d-4654-9ca5-b6799e92402a",
   "metadata": {},
   "outputs": [],
   "source": [
    "# Find all the HTML elements with the 'h1' tag in the parsed HTML content and assign it to title\n",
    "title = soup.find('h2').get_text()"
   ]
  },
  {
   "cell_type": "code",
   "execution_count": 70,
   "id": "082bf755-73f9-4142-96ee-ff6c39d22129",
   "metadata": {},
   "outputs": [],
   "source": [
    "# Select the 'entry-content' class within the parsed HTML content and retrieve the first element ([0])\n",
    "# Within the selected content, find all 'p' (paragraph) elements and store them in the 'content' variable\n",
    "content = soup.select('.entry-content')[4].find_all('p')"
   ]
  },
  {
   "cell_type": "code",
   "execution_count": 71,
   "id": "a08b5f08-50ba-440b-acc4-f9770c195156",
   "metadata": {},
   "outputs": [],
   "source": [
    "# Initialize an empty list to store cleaned content\n",
    "clean_content = []\n",
    "\n",
    "# Loop through each 'p' (paragraph) element in the 'content' list\n",
    "for p in content:\n",
    "    # Extract the text content from the 'p' element and append it to the 'clean_content' list\n",
    "    clean_content.append(p.get_text())\n",
    "content = ''.join(clean_content)"
   ]
  },
  {
   "cell_type": "code",
   "execution_count": 72,
   "id": "a196d2a8-7b3c-4c87-9cb4-109cf5e832b2",
   "metadata": {},
   "outputs": [
    {
     "data": {
      "text/plain": [
       "'5th October 2021: With festive season being just around the corner, a recent consumer poll by Public app with over 4 lakh respondents has revealed interesting social and economical consumer insights this year which has also been compared to a similar poll that was conducted in 2020. The poll highlights that while people are considerably…More '"
      ]
     },
     "execution_count": 72,
     "metadata": {},
     "output_type": "execute_result"
    }
   ],
   "source": [
    "content"
   ]
  },
  {
   "cell_type": "code",
   "execution_count": 73,
   "id": "2b9a64b6-6ac4-4de7-a798-f83982835f76",
   "metadata": {},
   "outputs": [
    {
     "data": {
      "text/plain": [
       "'86% Indians feel voting should be made compulsory: Public App Survey￼'"
      ]
     },
     "execution_count": 73,
     "metadata": {},
     "output_type": "execute_result"
    }
   ],
   "source": [
    "title"
   ]
  },
  {
   "cell_type": "markdown",
   "id": "e068ba34-c8d9-4ba5-b6cb-6d19b1697162",
   "metadata": {},
   "source": [
    "## Entertainment"
   ]
  },
  {
   "cell_type": "code",
   "execution_count": 74,
   "id": "0dbacec8-7756-43df-8287-f584f00b8128",
   "metadata": {},
   "outputs": [],
   "source": [
    "# Get the fourth URL from the 'new_links' list and assign it to the variable 'url'\n",
    "url = new_links[0]  # Change the index to the correct one\n",
    "# Send an HTTP GET request to the specified URL with the defined User-Agent header\n",
    "response = requests.get(url, headers=headers)\n",
    "# Create a BeautifulSoup object to parse the HTML content\n",
    "soup = BeautifulSoup(response.content, 'html.parser')\n",
    "# Find the HTML element with the title and extract the text\n",
    "title = soup.find('h2').get_text()\n",
    "content_elements = soup.select('.entry-content')  # Update this line to match the HTML structure\n",
    "# Initialize an empty list to store cleaned content\n",
    "clean_content = []\n",
    "\n",
    "# Loop through each content element\n",
    "for element in content_elements:\n",
    "    # Extract the text content from the element and append it to the 'clean_content' list\n",
    "    clean_content.append(element.get_text())\n",
    "content = ''.join(clean_content)"
   ]
  },
  {
   "cell_type": "code",
   "execution_count": 75,
   "id": "a5b7c73e-a52d-4fac-b650-0909214f9785",
   "metadata": {},
   "outputs": [
    {
     "data": {
      "text/plain": [
       "'86% Indians feel voting should be made compulsory: Public App Survey￼'"
      ]
     },
     "execution_count": 75,
     "metadata": {},
     "output_type": "execute_result"
    }
   ],
   "source": [
    "title"
   ]
  },
  {
   "cell_type": "code",
   "execution_count": 76,
   "id": "a4500087-511a-4e03-8b22-405885ad0e0a",
   "metadata": {},
   "outputs": [
    {
     "data": {
      "text/plain": [
       "'\\nOn the occasion of the 12th National Voters’ Day, Public App, India’s largest location-based social network, conducted a survey to understand how seriously Indians take their voting rights and on what factors they evaluate for which candidate to choose. This pan-India poll was conducted with a sizable data pool of over 4 lakh people. As…More \\n\\nAs 2021 draws to a close end, users of location-based social network Public weighed in their views on the age-old tradition of making New Year’s resolutions. A New Year’s resolution is a common practice in which a person resolves to continue good habits, change an undesired trait or behavior, accomplish a personal goal, or otherwise…More \\n\\nWhile addressing the nation on November 19, Prime Minister Narendra Modi announced that the three contentious farm laws -The Farmers’ Produce Trade and Commerce (Promotion and Facilitation) Bill, 2020, The Farmers (Empowerment and Protection) Agreement of Price Assurance and Farm Services Bill, 2020 & The Essential Commodities (Amendment) Bill, 2020 – would be repealed in…More \\n\\nThe latest round of opinion polls conducted on location-based social network Public has revealed that at 64.6%, cricket fans strongly agree that mentor MS Dhoni will help improve India’s prospects at T20. The poll gauged opinions of Bharat users ahead of the ICC Men’s T20 World Cup 2021. This year, BCCI is the host of…More \\n\\n5th October 2021: With festive season being just around the corner, a recent consumer poll by Public app with over 4 lakh respondents has revealed interesting social and economical consumer insights this year which has also been compared to a similar poll that was conducted in 2020. The poll highlights that while people are considerably…More \\n\\nMajority (72%) believes that Covid-19 vaccines are safe and effective against coronavirus 8.8% of the respondents expressed hesitation in getting vaccinated About 25% responded positively to being fully vaccinated with both doses of vaccine In January 2021, India kicked off the world’s largest Covid-19 vaccination drive to vaccinate its nearly 90 crore eligible population. According…More \\n\\nNearly 76% see the world returning to normalcy with the Tokyo Olympics; 53% of the respondents are very excited. 22.74% and 21.98% are keen to watch Archery and Wrestling respectively, followed by Badminton (13.55%) and Boxing (8%). 33.71% said they’ll watch some other sport. Majority (74%) believes the Games help bring the country together and…More \\n\\nJanuary 12, 2021 With the debate raging over WhatsApp’s updated privacy policy in India, a whopping 47% respondents of an Inshorts poll said that they would not accept the policy and will look for alternatives of the messaging app. Around 14% respondents did not see any privacy concerns and said that they will accept and…More \\n\\nJanuary 13, 2021 As 2021 gets off to a shaky but hopeful start with everyone looking to put 2020 behind them, Inshorts conducted a New Year poll with over three lakh respondents giving their opinion on life as they see it in the new year. Vaccine rollouts notwithstanding, about 70% respondents said that the COVID-19…More \\n\\nAnnounces continued growth momentum; records 300% QoQ growth 1 million videos are being created per month on Public National, January 08, 2020 – Location-based social network Public has registered a whopping 10 million users within 6 months of beta launch, becoming the fastest Indian social app to cross the milestone. Public allows people to record…More \\n'"
      ]
     },
     "execution_count": 76,
     "metadata": {},
     "output_type": "execute_result"
    }
   ],
   "source": [
    "content"
   ]
  },
  {
   "cell_type": "markdown",
   "id": "6326d2a9-67f2-47fa-8b9f-d82673666e12",
   "metadata": {},
   "source": [
    "### Technology"
   ]
  },
  {
   "cell_type": "code",
   "execution_count": 77,
   "id": "16f4166e-1c1b-454b-9171-b9206e549190",
   "metadata": {},
   "outputs": [],
   "source": [
    "def get_articles_data(new_links, headers):\n",
    "    article_list = []\n",
    "    \n",
    "    for url in new_links:\n",
    "        response = requests.get(url, headers=headers)\n",
    "        soup = BeautifulSoup(response.content, 'html.parser')\n",
    "\n",
    "        # Extract the title\n",
    "        title = soup.find('h2')\n",
    "        if title and title.get_text() != \"Example Domain\":\n",
    "            title_text = title.get_text()\n",
    "        else:\n",
    "            title_text = \"Title Not Found\"\n",
    "\n",
    "        # Extract the content\n",
    "        content = soup.select('.entry-content')\n",
    "        if content:\n",
    "            content_text = ''.join([p.get_text() for p in content[0].find_all('p')])\n",
    "        else:\n",
    "            content_text = \"Content Not Found\"\n",
    "\n",
    "        article_data = {\n",
    "            'title': title_text,\n",
    "            'content': content_text\n",
    "        }\n",
    "\n",
    "        article_list.append(article_data)\n",
    "    \n",
    "    return article_list"
   ]
  },
  {
   "cell_type": "code",
   "execution_count": 78,
   "id": "12cc0a3a-2d5d-4c56-82c4-108616d4d1fc",
   "metadata": {},
   "outputs": [],
   "source": [
    "def get_news_article(new_links):\n",
    "    # Get the fourth URL from the 'new_links' list and assign it to the variable 'url'\n",
    "    url = new_links[0]  # Change the index to the correct one\n",
    "    # Send an HTTP GET request to the specified URL with the defined User-Agent header\n",
    "    response = requests.get(url, headers=headers)\n",
    "    # Create a BeautifulSoup object to parse the HTML content\n",
    "    soup = BeautifulSoup(response.content, 'html.parser')\n",
    "    # Find the HTML element with the title and extract the text\n",
    "    title = soup.find('h2').get_text()  # Update this line to match the HTML structure\n",
    "    #<header class=\"entry-header default-max-width\">\n",
    "    \t\t#<h2 class=\"entry-title\"><a href=\"https://blog.inshorts.com/2022/01/27/around-86-indians-feel-voting-should-be-made-compulsory-public-poll/\" rel=\"bookmark\">86% Indians feel voting should be made compulsory: Public App Survey￼</a></h2>\t</header>\n",
    "    # Find the HTML element(s) containing the article content and extract the text\n",
    "    content_elements = soup.select('.entry-content')  # Update this line to match the HTML structure\n",
    "    # Initialize an empty list to store cleaned content\n",
    "    clean_content = []\n",
    "    \n",
    "    # Loop through each content element\n",
    "    for element in content_elements:\n",
    "        # Extract the text content from the element and append it to the 'clean_content' list\n",
    "        clean_content.append(element.get_text())\n",
    "    content = ''.join(clean_content)\n",
    "    news_df = {'title': title,\n",
    "               'content': content\n",
    "        \n",
    "    }\n",
    "    return news_df"
   ]
  },
  {
   "cell_type": "code",
   "execution_count": 79,
   "id": "bf296cfb-9c72-422a-a3d7-d3423daa94ed",
   "metadata": {},
   "outputs": [
    {
     "data": {
      "text/plain": [
       "'86% Indians feel voting should be made compulsory: Public App Survey￼'"
      ]
     },
     "execution_count": 79,
     "metadata": {},
     "output_type": "execute_result"
    }
   ],
   "source": [
    "title"
   ]
  },
  {
   "cell_type": "code",
   "execution_count": 80,
   "id": "89267888-1f49-4edd-94e7-481859b1f483",
   "metadata": {},
   "outputs": [
    {
     "data": {
      "text/plain": [
       "'\\nOn the occasion of the 12th National Voters’ Day, Public App, India’s largest location-based social network, conducted a survey to understand how seriously Indians take their voting rights and on what factors they evaluate for which candidate to choose. This pan-India poll was conducted with a sizable data pool of over 4 lakh people. As…More \\n\\nAs 2021 draws to a close end, users of location-based social network Public weighed in their views on the age-old tradition of making New Year’s resolutions. A New Year’s resolution is a common practice in which a person resolves to continue good habits, change an undesired trait or behavior, accomplish a personal goal, or otherwise…More \\n\\nWhile addressing the nation on November 19, Prime Minister Narendra Modi announced that the three contentious farm laws -The Farmers’ Produce Trade and Commerce (Promotion and Facilitation) Bill, 2020, The Farmers (Empowerment and Protection) Agreement of Price Assurance and Farm Services Bill, 2020 & The Essential Commodities (Amendment) Bill, 2020 – would be repealed in…More \\n\\nThe latest round of opinion polls conducted on location-based social network Public has revealed that at 64.6%, cricket fans strongly agree that mentor MS Dhoni will help improve India’s prospects at T20. The poll gauged opinions of Bharat users ahead of the ICC Men’s T20 World Cup 2021. This year, BCCI is the host of…More \\n\\n5th October 2021: With festive season being just around the corner, a recent consumer poll by Public app with over 4 lakh respondents has revealed interesting social and economical consumer insights this year which has also been compared to a similar poll that was conducted in 2020. The poll highlights that while people are considerably…More \\n\\nMajority (72%) believes that Covid-19 vaccines are safe and effective against coronavirus 8.8% of the respondents expressed hesitation in getting vaccinated About 25% responded positively to being fully vaccinated with both doses of vaccine In January 2021, India kicked off the world’s largest Covid-19 vaccination drive to vaccinate its nearly 90 crore eligible population. According…More \\n\\nNearly 76% see the world returning to normalcy with the Tokyo Olympics; 53% of the respondents are very excited. 22.74% and 21.98% are keen to watch Archery and Wrestling respectively, followed by Badminton (13.55%) and Boxing (8%). 33.71% said they’ll watch some other sport. Majority (74%) believes the Games help bring the country together and…More \\n\\nJanuary 12, 2021 With the debate raging over WhatsApp’s updated privacy policy in India, a whopping 47% respondents of an Inshorts poll said that they would not accept the policy and will look for alternatives of the messaging app. Around 14% respondents did not see any privacy concerns and said that they will accept and…More \\n\\nJanuary 13, 2021 As 2021 gets off to a shaky but hopeful start with everyone looking to put 2020 behind them, Inshorts conducted a New Year poll with over three lakh respondents giving their opinion on life as they see it in the new year. Vaccine rollouts notwithstanding, about 70% respondents said that the COVID-19…More \\n\\nAnnounces continued growth momentum; records 300% QoQ growth 1 million videos are being created per month on Public National, January 08, 2020 – Location-based social network Public has registered a whopping 10 million users within 6 months of beta launch, becoming the fastest Indian social app to cross the milestone. Public allows people to record…More \\n'"
      ]
     },
     "execution_count": 80,
     "metadata": {},
     "output_type": "execute_result"
    }
   ],
   "source": [
    "content"
   ]
  },
  {
   "cell_type": "code",
   "execution_count": 81,
   "id": "88038d8c-23b2-4371-b605-2b47398a703c",
   "metadata": {},
   "outputs": [],
   "source": [
    "def get_new_links(url, headers, sc1, sc2, sc3):\n",
    "    # Send an HTTP GET request to the specified URL with the defined User-Agent header\n",
    "    response = requests.get(url, headers=headers)\n",
    "    # Create a BeautifulSoup object to parse the HTML content\n",
    "    soup = BeautifulSoup(response.content, 'html.parser')\n",
    "    # Find all the HTML elements with the 'h2' tag in the parsed HTML content\n",
    "    links = soup.find_all(sc1)\n",
    "    # Initialize an empty list to store the extracted links\n",
    "    new_links = []\n",
    "\n",
    "    # Loop through each 'article' element in the 'links' list\n",
    "    for article in links:\n",
    "        # Check if the 'article' contains an 'a' (anchor) element\n",
    "        if article.find(sc2):\n",
    "            # Print the 'href' attribute of the 'a' element (the link)\n",
    "            print(article.find(sc2).get(sc3))\n",
    "            # Append the link to the 'new_links' list\n",
    "            new_links.append(article.find(sc2).get(sc3))\n",
    "\n",
    "    return new_links"
   ]
  },
  {
   "cell_type": "code",
   "execution_count": 82,
   "id": "e2891654-285a-482e-900d-2dcd1a7e2313",
   "metadata": {},
   "outputs": [],
   "source": [
    "# Define the URL to the webpage you want to scrape\n",
    "url = 'https://inshorts.com/'\n",
    "# Define the User-Agent header to be used in the HTTP request\n",
    "headers = {'User-Agent': 'Codeup Data Science'}"
   ]
  },
  {
   "cell_type": "code",
   "execution_count": 83,
   "id": "bdf34539-03ea-4ca0-a2c0-da3eb22cc24a",
   "metadata": {},
   "outputs": [
    {
     "name": "stdout",
     "output_type": "stream",
     "text": [
      "https://blog.inshorts.com/\n",
      "https://blog.inshorts.com/\n",
      "https://blog.inshorts.com/\n",
      "https://blog.inshorts.com/\n",
      "https://blog.inshorts.com/\n",
      "/en/read\n",
      "https://itunes.apple.com/us/app/news-in-shorts/id892146527\n",
      "https://itunes.apple.com/us/app/news-in-shorts/id892146527\n",
      "https://itunes.apple.com/us/app/news-in-shorts/id892146527\n",
      "https://itunes.apple.com/us/app/news-in-shorts/id892146527\n",
      "https://itunes.apple.com/us/app/news-in-shorts/id892146527\n",
      "https://itunes.apple.com/us/app/news-in-shorts/id892146527\n",
      "/tnc\n",
      "/tnc\n",
      "https://facebook.com/inshortsapp\n"
     ]
    }
   ],
   "source": [
    "links = get_new_links(url, headers, 'div', 'a', 'href')"
   ]
  },
  {
   "cell_type": "code",
   "execution_count": 84,
   "id": "96fdc7ed-b521-4957-82c8-2cf4008f9607",
   "metadata": {},
   "outputs": [
    {
     "data": {
      "text/plain": [
       "{'title': '86% Indians feel voting should be made compulsory: Public App Survey￼',\n",
       " 'content': '\\nOn the occasion of the 12th National Voters’ Day, Public App, India’s largest location-based social network, conducted a survey to understand how seriously Indians take their voting rights and on what factors they evaluate for which candidate to choose. This pan-India poll was conducted with a sizable data pool of over 4 lakh people. As…More \\n\\nAs 2021 draws to a close end, users of location-based social network Public weighed in their views on the age-old tradition of making New Year’s resolutions. A New Year’s resolution is a common practice in which a person resolves to continue good habits, change an undesired trait or behavior, accomplish a personal goal, or otherwise…More \\n\\nWhile addressing the nation on November 19, Prime Minister Narendra Modi announced that the three contentious farm laws -The Farmers’ Produce Trade and Commerce (Promotion and Facilitation) Bill, 2020, The Farmers (Empowerment and Protection) Agreement of Price Assurance and Farm Services Bill, 2020 & The Essential Commodities (Amendment) Bill, 2020 – would be repealed in…More \\n\\nThe latest round of opinion polls conducted on location-based social network Public has revealed that at 64.6%, cricket fans strongly agree that mentor MS Dhoni will help improve India’s prospects at T20. The poll gauged opinions of Bharat users ahead of the ICC Men’s T20 World Cup 2021. This year, BCCI is the host of…More \\n\\n5th October 2021: With festive season being just around the corner, a recent consumer poll by Public app with over 4 lakh respondents has revealed interesting social and economical consumer insights this year which has also been compared to a similar poll that was conducted in 2020. The poll highlights that while people are considerably…More \\n\\nMajority (72%) believes that Covid-19 vaccines are safe and effective against coronavirus 8.8% of the respondents expressed hesitation in getting vaccinated About 25% responded positively to being fully vaccinated with both doses of vaccine In January 2021, India kicked off the world’s largest Covid-19 vaccination drive to vaccinate its nearly 90 crore eligible population. According…More \\n\\nNearly 76% see the world returning to normalcy with the Tokyo Olympics; 53% of the respondents are very excited. 22.74% and 21.98% are keen to watch Archery and Wrestling respectively, followed by Badminton (13.55%) and Boxing (8%). 33.71% said they’ll watch some other sport. Majority (74%) believes the Games help bring the country together and…More \\n\\nJanuary 12, 2021 With the debate raging over WhatsApp’s updated privacy policy in India, a whopping 47% respondents of an Inshorts poll said that they would not accept the policy and will look for alternatives of the messaging app. Around 14% respondents did not see any privacy concerns and said that they will accept and…More \\n\\nJanuary 13, 2021 As 2021 gets off to a shaky but hopeful start with everyone looking to put 2020 behind them, Inshorts conducted a New Year poll with over three lakh respondents giving their opinion on life as they see it in the new year. Vaccine rollouts notwithstanding, about 70% respondents said that the COVID-19…More \\n\\nAnnounces continued growth momentum; records 300% QoQ growth 1 million videos are being created per month on Public National, January 08, 2020 – Location-based social network Public has registered a whopping 10 million users within 6 months of beta launch, becoming the fastest Indian social app to cross the milestone. Public allows people to record…More \\n'}"
      ]
     },
     "execution_count": 84,
     "metadata": {},
     "output_type": "execute_result"
    }
   ],
   "source": [
    "get_news_article(links)"
   ]
  }
 ],
 "metadata": {
  "kernelspec": {
   "display_name": "Python 3 (ipykernel)",
   "language": "python",
   "name": "python3"
  },
  "language_info": {
   "codemirror_mode": {
    "name": "ipython",
    "version": 3
   },
   "file_extension": ".py",
   "mimetype": "text/x-python",
   "name": "python",
   "nbconvert_exporter": "python",
   "pygments_lexer": "ipython3",
   "version": "3.10.12"
  }
 },
 "nbformat": 4,
 "nbformat_minor": 5
}
