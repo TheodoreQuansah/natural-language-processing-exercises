{
 "cells": [
  {
   "cell_type": "markdown",
   "id": "51c956e4-4144-41b0-ac53-c2c45df23736",
   "metadata": {},
   "source": [
    "# Regular Expressions"
   ]
  },
  {
   "cell_type": "code",
   "execution_count": 1,
   "id": "5f188da3-309b-4af4-893c-ecb4a35d26ec",
   "metadata": {},
   "outputs": [],
   "source": [
    "import pandas as pd\n",
    "import numpy as np\n",
    "import re"
   ]
  },
  {
   "cell_type": "markdown",
   "id": "c151a09c-c05c-4ab4-bc87-5aab7b542264",
   "metadata": {},
   "source": [
    "### 1)\n",
    "   Write a function named is_vowel. It should accept a string as input and use a regular expression to determine if the passed string is a vowel. While not explicity mentioned in the lesson, you can treat the result of re.search as a boolean value that indicates whether or not the regular expression matches the given string."
   ]
  },
  {
   "cell_type": "code",
   "execution_count": 319,
   "id": "3af028ef-9a8d-4971-b518-19b107fefef3",
   "metadata": {},
   "outputs": [],
   "source": [
    "def is_vowel():\n",
    "    subject = input('Enter a character: ')\n",
    "    regexp = re.compile(r'^[aeiou]$', re.IGNORECASE)\n",
    "    if regexp.search(subject):\n",
    "        return True\n",
    "    else:\n",
    "        return False"
   ]
  },
  {
   "cell_type": "code",
   "execution_count": 320,
   "id": "9ce4cd52-e174-4470-a2cf-2bb05b805a1f",
   "metadata": {},
   "outputs": [
    {
     "name": "stdin",
     "output_type": "stream",
     "text": [
      "Enter a character:  A\n"
     ]
    },
    {
     "data": {
      "text/plain": [
       "True"
      ]
     },
     "execution_count": 320,
     "metadata": {},
     "output_type": "execute_result"
    }
   ],
   "source": [
    "is_vowel()"
   ]
  },
  {
   "cell_type": "markdown",
   "id": "aebd5493-8b71-4c84-a143-a79d2ae2455e",
   "metadata": {},
   "source": [
    "### 2)\n",
    "Write a function named is_valid_username that accepts a string as input. A valid username starts with a lowercase letter, and only consists of lowercase letters, numbers, or the _ character. It should also be no longer than 32 characters. The function should return either True or False depending on whether the passed string is a valid username."
   ]
  },
  {
   "cell_type": "code",
   "execution_count": 321,
   "id": "b7f2cf1a-41cc-408e-be89-afb540c0fff7",
   "metadata": {},
   "outputs": [],
   "source": [
    "def is_valid_username():\n",
    "    subject = input('Enter a username')\n",
    "    regexp = r'\\b[a-z][a-z0-9_]{0,31}$'\n",
    "    if re.match(regexp, subject):\n",
    "        return True\n",
    "    else:\n",
    "        return False"
   ]
  },
  {
   "cell_type": "markdown",
   "id": "05022eca-8765-4fed-b141-8a10d18fa074",
   "metadata": {},
   "source": [
    ">>> is_valid_username('aaaaaaaaaaaaaaaaaaaaaaaaaaaaaaaaa')\n",
    "False\n",
    ">>> is_valid_username('codeup')\n",
    "True\n",
    ">>> is_valid_username('Codeup')\n",
    "False\n",
    ">>> is_valid_username('codeup123')\n",
    "True\n",
    ">>> is_valid_username('1codeup')\n",
    "False\n"
   ]
  },
  {
   "cell_type": "code",
   "execution_count": 322,
   "id": "8e79311f-faba-42c6-98de-eb86cdc0599d",
   "metadata": {},
   "outputs": [
    {
     "name": "stdin",
     "output_type": "stream",
     "text": [
      "Enter a username aaaaaaaaaaaaaaaaaaaaaaaaaaaaaaaaa\n"
     ]
    },
    {
     "data": {
      "text/plain": [
       "False"
      ]
     },
     "execution_count": 322,
     "metadata": {},
     "output_type": "execute_result"
    }
   ],
   "source": [
    "is_valid_username()"
   ]
  },
  {
   "cell_type": "code",
   "execution_count": 323,
   "id": "71cd952d-2f1f-4b49-b666-293577bd6feb",
   "metadata": {},
   "outputs": [
    {
     "name": "stdin",
     "output_type": "stream",
     "text": [
      "Enter a username codeup\n"
     ]
    },
    {
     "data": {
      "text/plain": [
       "True"
      ]
     },
     "execution_count": 323,
     "metadata": {},
     "output_type": "execute_result"
    }
   ],
   "source": [
    "is_valid_username()"
   ]
  },
  {
   "cell_type": "code",
   "execution_count": 324,
   "id": "70e9abac-de6a-47e2-b1f2-7c4a8df4eb51",
   "metadata": {},
   "outputs": [
    {
     "name": "stdin",
     "output_type": "stream",
     "text": [
      "Enter a username Codeup\n"
     ]
    },
    {
     "data": {
      "text/plain": [
       "False"
      ]
     },
     "execution_count": 324,
     "metadata": {},
     "output_type": "execute_result"
    }
   ],
   "source": [
    "is_valid_username()"
   ]
  },
  {
   "cell_type": "code",
   "execution_count": 325,
   "id": "c580c5b2-86c9-4dd5-8ae8-c852b5d1d0bb",
   "metadata": {},
   "outputs": [
    {
     "name": "stdin",
     "output_type": "stream",
     "text": [
      "Enter a username codeup123\n"
     ]
    },
    {
     "data": {
      "text/plain": [
       "True"
      ]
     },
     "execution_count": 325,
     "metadata": {},
     "output_type": "execute_result"
    }
   ],
   "source": [
    "is_valid_username()"
   ]
  },
  {
   "cell_type": "code",
   "execution_count": 326,
   "id": "3b713ffd-3b08-4e37-88ee-9cc2acaef4ce",
   "metadata": {},
   "outputs": [
    {
     "name": "stdin",
     "output_type": "stream",
     "text": [
      "Enter a username 1codeup\n"
     ]
    },
    {
     "data": {
      "text/plain": [
       "False"
      ]
     },
     "execution_count": 326,
     "metadata": {},
     "output_type": "execute_result"
    }
   ],
   "source": [
    "is_valid_username()"
   ]
  },
  {
   "cell_type": "code",
   "execution_count": 327,
   "id": "4acb9eb4-644d-4fe0-be50-009b26b41341",
   "metadata": {},
   "outputs": [
    {
     "name": "stdin",
     "output_type": "stream",
     "text": [
      "Enter a username theo123\n"
     ]
    },
    {
     "data": {
      "text/plain": [
       "True"
      ]
     },
     "execution_count": 327,
     "metadata": {},
     "output_type": "execute_result"
    }
   ],
   "source": [
    "is_valid_username()"
   ]
  },
  {
   "cell_type": "markdown",
   "id": "505cafc8-bcf6-4f09-bddb-0b5e1068891d",
   "metadata": {},
   "source": [
    "### 3)\n",
    "Write a regular expression to capture phone numbers. It should match all of the following:"
   ]
  },
  {
   "cell_type": "code",
   "execution_count": 328,
   "id": "a9832b69-c021-450b-a45d-41829a8e17ac",
   "metadata": {},
   "outputs": [],
   "source": [
    "def is_phone_number():\n",
    "    subject = input('Enter a phone number')\n",
    "    regexp = r'\\+?1?\\s?(\\(?\\d{3}?\\)?)?[-\\.\\s]?\\d{3}[-\\.\\s]\\d{4}$'\n",
    "    if re.match(regexp, subject):\n",
    "        return True\n",
    "    else:\n",
    "        return False"
   ]
  },
  {
   "cell_type": "code",
   "execution_count": 329,
   "id": "774ed266-dc8c-4959-91aa-3771d7eac253",
   "metadata": {},
   "outputs": [
    {
     "name": "stdin",
     "output_type": "stream",
     "text": [
      "Enter a phone number (210) 867 5309\n"
     ]
    },
    {
     "data": {
      "text/plain": [
       "True"
      ]
     },
     "execution_count": 329,
     "metadata": {},
     "output_type": "execute_result"
    }
   ],
   "source": [
    "is_phone_number()"
   ]
  },
  {
   "cell_type": "code",
   "execution_count": 330,
   "id": "22da390b-d9ab-4d31-b220-4457ffb513c1",
   "metadata": {},
   "outputs": [
    {
     "name": "stdin",
     "output_type": "stream",
     "text": [
      "Enter a phone number +1 210.867.5309\n"
     ]
    },
    {
     "data": {
      "text/plain": [
       "True"
      ]
     },
     "execution_count": 330,
     "metadata": {},
     "output_type": "execute_result"
    }
   ],
   "source": [
    "is_phone_number()"
   ]
  },
  {
   "cell_type": "code",
   "execution_count": 331,
   "id": "f29ddbff-0ebb-4a37-833e-7177f4b7bb4c",
   "metadata": {},
   "outputs": [
    {
     "name": "stdin",
     "output_type": "stream",
     "text": [
      "Enter a phone number 867-5309\n"
     ]
    },
    {
     "data": {
      "text/plain": [
       "True"
      ]
     },
     "execution_count": 331,
     "metadata": {},
     "output_type": "execute_result"
    }
   ],
   "source": [
    "is_phone_number()"
   ]
  },
  {
   "cell_type": "code",
   "execution_count": 332,
   "id": "280cf1f2-522e-4583-ae65-bec10402d36f",
   "metadata": {},
   "outputs": [
    {
     "name": "stdin",
     "output_type": "stream",
     "text": [
      "Enter a phone number 210-867-5309\n"
     ]
    },
    {
     "data": {
      "text/plain": [
       "True"
      ]
     },
     "execution_count": 332,
     "metadata": {},
     "output_type": "execute_result"
    }
   ],
   "source": [
    "is_phone_number()"
   ]
  },
  {
   "cell_type": "markdown",
   "id": "540218da-3c79-4a8d-b620-2906848da9a1",
   "metadata": {},
   "source": [
    "(210) 867 5309\n",
    "+1 210.867.5309\n",
    "867-5309\n",
    "210-867-5309\n"
   ]
  },
  {
   "cell_type": "markdown",
   "id": "3d1fd7c8-b88a-40ab-987e-aa2a11e64c37",
   "metadata": {},
   "source": [
    "### 4) \n",
    "Use regular expressions to convert the dates below to the standardized year-month-day format."
   ]
  },
  {
   "cell_type": "code",
   "execution_count": 333,
   "id": "c3eeabfa-8b08-4860-a407-5462cce37da3",
   "metadata": {},
   "outputs": [],
   "source": [
    "def convert_date():\n",
    "    user_input = input(\"Enter a date (MM/DD/YY): \")\n",
    "    match = re.match(r'(\\d{2})/(\\d{2})/(\\d{2})', user_input)\n",
    "    month, day, year = match.groups()\n",
    "    return f\"20{year}-{month}-{day}\""
   ]
  },
  {
   "cell_type": "code",
   "execution_count": 334,
   "id": "475ed3dd-a9f6-4201-8262-0d91732e2e06",
   "metadata": {},
   "outputs": [
    {
     "name": "stdin",
     "output_type": "stream",
     "text": [
      "Enter a date (MM/DD/YY):  02/04/19\n"
     ]
    },
    {
     "data": {
      "text/plain": [
       "'2019-02-04'"
      ]
     },
     "execution_count": 334,
     "metadata": {},
     "output_type": "execute_result"
    }
   ],
   "source": [
    "convert_date()"
   ]
  },
  {
   "cell_type": "code",
   "execution_count": 335,
   "id": "66626516-b210-4005-9e51-a87c22ccd9e3",
   "metadata": {},
   "outputs": [
    {
     "name": "stdin",
     "output_type": "stream",
     "text": [
      "Enter a date (MM/DD/YY):  02/05/19\n"
     ]
    },
    {
     "data": {
      "text/plain": [
       "'2019-02-05'"
      ]
     },
     "execution_count": 335,
     "metadata": {},
     "output_type": "execute_result"
    }
   ],
   "source": [
    "convert_date()"
   ]
  },
  {
   "cell_type": "code",
   "execution_count": 336,
   "id": "1f52c64f-f610-4867-ac0f-8a39b0cc0255",
   "metadata": {},
   "outputs": [
    {
     "name": "stdin",
     "output_type": "stream",
     "text": [
      "Enter a date (MM/DD/YY):  02/06/19\n"
     ]
    },
    {
     "data": {
      "text/plain": [
       "'2019-02-06'"
      ]
     },
     "execution_count": 336,
     "metadata": {},
     "output_type": "execute_result"
    }
   ],
   "source": [
    "convert_date()"
   ]
  },
  {
   "cell_type": "code",
   "execution_count": 337,
   "id": "8b02d743-7101-4093-aea6-e052d4dfb669",
   "metadata": {},
   "outputs": [
    {
     "name": "stdin",
     "output_type": "stream",
     "text": [
      "Enter a date (MM/DD/YY):  02/07/19\n"
     ]
    },
    {
     "data": {
      "text/plain": [
       "'2019-02-07'"
      ]
     },
     "execution_count": 337,
     "metadata": {},
     "output_type": "execute_result"
    }
   ],
   "source": [
    "convert_date()"
   ]
  },
  {
   "cell_type": "code",
   "execution_count": 338,
   "id": "d85cd13a-0eb8-4e17-9670-460b959471bf",
   "metadata": {},
   "outputs": [
    {
     "name": "stdin",
     "output_type": "stream",
     "text": [
      "Enter a date (MM/DD/YY):  02/08/19\n"
     ]
    },
    {
     "data": {
      "text/plain": [
       "'2019-02-08'"
      ]
     },
     "execution_count": 338,
     "metadata": {},
     "output_type": "execute_result"
    }
   ],
   "source": [
    "convert_date()"
   ]
  },
  {
   "cell_type": "code",
   "execution_count": 339,
   "id": "344711c3-9c71-48e6-a07f-2b584356b0e6",
   "metadata": {},
   "outputs": [
    {
     "name": "stdin",
     "output_type": "stream",
     "text": [
      "Enter a date (MM/DD/YY):  02/09/19\n"
     ]
    },
    {
     "data": {
      "text/plain": [
       "'2019-02-09'"
      ]
     },
     "execution_count": 339,
     "metadata": {},
     "output_type": "execute_result"
    }
   ],
   "source": [
    "convert_date()"
   ]
  },
  {
   "cell_type": "code",
   "execution_count": 340,
   "id": "62195bae-d3fb-4616-b256-fab28184aac5",
   "metadata": {},
   "outputs": [
    {
     "name": "stdin",
     "output_type": "stream",
     "text": [
      "Enter a date (MM/DD/YY):  02/10/19\n"
     ]
    },
    {
     "data": {
      "text/plain": [
       "'2019-02-10'"
      ]
     },
     "execution_count": 340,
     "metadata": {},
     "output_type": "execute_result"
    }
   ],
   "source": [
    "convert_date()"
   ]
  },
  {
   "cell_type": "markdown",
   "id": "ed20a277-51a9-42fb-9d7a-b872d29c6670",
   "metadata": {},
   "source": [
    "02/04/19\n",
    "02/05/19\n",
    "02/06/19\n",
    "02/07/19\n",
    "02/08/19\n",
    "02/09/19\n",
    "02/10/19\n"
   ]
  },
  {
   "cell_type": "markdown",
   "id": "2bd0e58f-6d19-41c7-8f0b-62f86c97512b",
   "metadata": {},
   "source": [
    "### 5) \n",
    "Write a regex to extract the various parts of these logfile lines:"
   ]
  },
  {
   "cell_type": "markdown",
   "id": "8959f36d-46fa-476e-9181-b33c9ee3c101",
   "metadata": {},
   "source": [
    "GET /api/v1/sales?page=86 [16/Apr/2019:193452+0000] HTTP/1.1 {200} 510348 \"python-requests/2.21.0\" 97.105.19.58  \n",
    "POST /users_accounts/file-upload [16/Apr/2019:193452+0000] HTTP/1.1 {201} 42 \"User-Agent: Mozilla/5.0 (X11; Fedora; Fedora; Linux x86_64) AppleWebKit/537.36   (KHTML, like Gecko) Chrome/73.0.3683.86 Safari/537.36\" 97.105.19.58  \n",
    "GET /api/v1/items?page=3 [16/Apr/2019:193453+0000] HTTP/1.1 {429} 3561 \"python-requests/2.21.0\" 97.105.19.58  "
   ]
  },
  {
   "cell_type": "code",
   "execution_count": 343,
   "id": "c7999f79-60c5-4e60-b106-4c084683800d",
   "metadata": {},
   "outputs": [],
   "source": [
    "log_lines = [\n",
    "    'GET /api/v1/sales?page=86 [16/Apr/2019:193452+0000] HTTP/1.1 {200} 510348 \"python-requests/2.21.0\" 97.105.19.58',\n",
    "    'POST /users_accounts/file-upload [16/Apr/2019:193452+0000] HTTP/1.1 {201} 42 \"User-Agent: Mozilla/5.0 (X11; Fedora; Fedora; Linux x86_64) AppleWebKit/537.36   (KHTML, like Gecko) Chrome/73.0.3683.86 Safari/537.36\" 97.105.19.58',\n",
    "    'GET /api/v1/items?page=3 [16/Apr/2019:193453+0000] HTTP/1.1 {429} 3561 \"python-requests/2.21.0\" 97.105.19.58'\n",
    "]"
   ]
  },
  {
   "cell_type": "markdown",
   "id": "5de8e5ef-4708-4ee4-995e-f1d77d9ada5d",
   "metadata": {},
   "source": [
    "### Method"
   ]
  },
  {
   "cell_type": "code",
   "execution_count": 341,
   "id": "e5b1b54a-89d0-4afa-84f4-8b8fd4f3c6f4",
   "metadata": {},
   "outputs": [
    {
     "name": "stdout",
     "output_type": "stream",
     "text": [
      "Match: GET\n",
      "Match: POST\n",
      "Match: GET\n"
     ]
    }
   ],
   "source": [
    "for method in log_lines:\n",
    "    match = re.search(r'^(GET|POST)', method)\n",
    "    if match:\n",
    "        print('Match:', match.group(1))\n",
    "    else:\n",
    "        print('No match')"
   ]
  },
  {
   "cell_type": "markdown",
   "id": "ba4278a0-0eed-4e59-b5ab-963290875427",
   "metadata": {},
   "source": [
    "### log"
   ]
  },
  {
   "cell_type": "code",
   "execution_count": 342,
   "id": "f6044614-79a0-44bc-8d0f-c8a0d3eed1fc",
   "metadata": {},
   "outputs": [
    {
     "name": "stdout",
     "output_type": "stream",
     "text": [
      "Match: api/v1/sales?page=86\n",
      "Match: users_accounts/file-upload\n",
      "Match: api/v1/items?page=3\n"
     ]
    }
   ],
   "source": [
    "for log in log_lines:\n",
    "    match = re.search(r' /([a-zA-Z0-9_/?=-]+)', log)\n",
    "    if match:\n",
    "        print('Match:', match.group(1))\n",
    "    else:\n",
    "        print('No match')"
   ]
  },
  {
   "cell_type": "markdown",
   "id": "0f57b9e0-c326-442d-b9b0-f19a24740d34",
   "metadata": {},
   "source": [
    "### Timestamp"
   ]
  },
  {
   "cell_type": "code",
   "execution_count": 344,
   "id": "6f93047b-8363-401f-a5ee-419a02fb51db",
   "metadata": {},
   "outputs": [
    {
     "name": "stdout",
     "output_type": "stream",
     "text": [
      "Match: 16/Apr/2019:193452+0000\n",
      "Match: 16/Apr/2019:193452+0000\n",
      "Match: 16/Apr/2019:193453+0000\n"
     ]
    }
   ],
   "source": [
    "for timestamp in log_lines:\n",
    "    match = re.search(r'\\[(\\d{2}/[A-Za-z]+/\\d{4}:\\d{6}\\+\\d{4})', timestamp)\n",
    "    if match:\n",
    "        print('Match:', match.group(1))\n",
    "    else:\n",
    "        print('No match')"
   ]
  },
  {
   "cell_type": "markdown",
   "id": "144fcf66-a911-4674-b16c-614d3f244c0b",
   "metadata": {},
   "source": [
    "### httpversion"
   ]
  },
  {
   "cell_type": "code",
   "execution_count": 346,
   "id": "1fb53507-3ef3-4d64-94e1-597174f73556",
   "metadata": {},
   "outputs": [
    {
     "name": "stdout",
     "output_type": "stream",
     "text": [
      "Match: 1.1\n",
      "Match: 1.1\n",
      "Match: 1.1\n"
     ]
    }
   ],
   "source": [
    "for httpversion in log_lines:\n",
    "    match = re.search(r'HTTP/([0-9.]+)', httpversion)\n",
    "    if match:\n",
    "        print('Match:', match.group(1))\n",
    "    else:\n",
    "        print('No match')"
   ]
  },
  {
   "cell_type": "markdown",
   "id": "a78af493-57c2-487c-b870-2eb14a860b51",
   "metadata": {},
   "source": [
    "### Httpcode"
   ]
  },
  {
   "cell_type": "code",
   "execution_count": 348,
   "id": "4f0598db-d94e-48a0-bb1f-1b8722860cad",
   "metadata": {},
   "outputs": [
    {
     "name": "stdout",
     "output_type": "stream",
     "text": [
      "Match: 200\n",
      "Match: 201\n",
      "Match: 429\n"
     ]
    }
   ],
   "source": [
    "for httpcode in log_lines:\n",
    "    match = re.search(r'{(\\d+)}', httpcode)\n",
    "    if match:\n",
    "        print('Match:', match.group(1))\n",
    "    else:\n",
    "        print('No match')"
   ]
  },
  {
   "cell_type": "markdown",
   "id": "2448e081-952e-4e06-95d6-cd3eb94524b3",
   "metadata": {},
   "source": [
    "### Bytes"
   ]
  },
  {
   "cell_type": "code",
   "execution_count": 350,
   "id": "99708188-cedd-453f-9b1d-83703950b2e7",
   "metadata": {},
   "outputs": [
    {
     "name": "stdout",
     "output_type": "stream",
     "text": [
      "Match: 510348\n",
      "Match: 42\n",
      "Match: 3561\n"
     ]
    }
   ],
   "source": [
    "for bytes in log_lines:\n",
    "    match = re.search(r'(\\d+) \"(.*?)\"', bytes)\n",
    "    if match:\n",
    "        print('Match:', match.group(1))\n",
    "    else:\n",
    "        print('No match')"
   ]
  },
  {
   "cell_type": "markdown",
   "id": "99c5e64c-2b7b-4e9b-987f-899b18dd8132",
   "metadata": {},
   "source": [
    "### Useragent"
   ]
  },
  {
   "cell_type": "code",
   "execution_count": 352,
   "id": "b77675f5-1abe-44c6-80bd-497fc9fa343b",
   "metadata": {},
   "outputs": [
    {
     "name": "stdout",
     "output_type": "stream",
     "text": [
      "Match: python-requests/2.21.0\n",
      "Match: User-Agent: Mozilla/5.0 (X11; Fedora; Fedora; Linux x86_64) AppleWebKit/537.36   (KHTML, like Gecko) Chrome/73.0.3683.86 Safari/537.36\n",
      "Match: python-requests/2.21.0\n"
     ]
    }
   ],
   "source": [
    "for useragent in log_lines:\n",
    "    match = re.search(r'\"(.*?)\"', useragent)\n",
    "    if match:\n",
    "        print('Match:', match.group(1))\n",
    "    else:\n",
    "        print('No match')"
   ]
  },
  {
   "cell_type": "markdown",
   "id": "109c481d-414e-4800-83fa-a37f0efa7fd0",
   "metadata": {},
   "source": [
    "### IP"
   ]
  },
  {
   "cell_type": "code",
   "execution_count": 354,
   "id": "32ba449d-ca3d-4065-8172-af11f80ac375",
   "metadata": {},
   "outputs": [
    {
     "name": "stdout",
     "output_type": "stream",
     "text": [
      "Match: 97.105.19.58\n",
      "Match: 73.0.3683.86\n",
      "Match: 97.105.19.58\n"
     ]
    }
   ],
   "source": [
    "for ip in log_lines:\n",
    "    match = re.search(r'(\\d+\\.\\d+\\.\\d+\\.\\d+)', ip)\n",
    "    if match:\n",
    "        print('Match:', match.group(1))\n",
    "    else:\n",
    "        print('No match')"
   ]
  },
  {
   "cell_type": "markdown",
   "id": "cdfdeead-351f-4ed3-8cf4-7db7a9876595",
   "metadata": {},
   "source": [
    "## Different method"
   ]
  },
  {
   "cell_type": "code",
   "execution_count": 345,
   "id": "9ca65179-d527-443b-a327-c725b36e2035",
   "metadata": {},
   "outputs": [
    {
     "data": {
      "text/html": [
       "<div>\n",
       "<style scoped>\n",
       "    .dataframe tbody tr th:only-of-type {\n",
       "        vertical-align: middle;\n",
       "    }\n",
       "\n",
       "    .dataframe tbody tr th {\n",
       "        vertical-align: top;\n",
       "    }\n",
       "\n",
       "    .dataframe thead th {\n",
       "        text-align: right;\n",
       "    }\n",
       "</style>\n",
       "<table border=\"1\" class=\"dataframe\">\n",
       "  <thead>\n",
       "    <tr style=\"text-align: right;\">\n",
       "      <th></th>\n",
       "      <th>method</th>\n",
       "      <th>path</th>\n",
       "      <th>timestamp</th>\n",
       "      <th>http_version</th>\n",
       "      <th>status</th>\n",
       "      <th>bytes</th>\n",
       "      <th>user_agent</th>\n",
       "      <th>ip</th>\n",
       "    </tr>\n",
       "  </thead>\n",
       "  <tbody>\n",
       "    <tr>\n",
       "      <th>0</th>\n",
       "      <td>GET</td>\n",
       "      <td>/api/v1/sales?page=86</td>\n",
       "      <td>16/Apr/2019:193452+0000</td>\n",
       "      <td>HTTP/1.1</td>\n",
       "      <td>200</td>\n",
       "      <td>510348</td>\n",
       "      <td>python-requests/2.21.0</td>\n",
       "      <td>97.105.19.58</td>\n",
       "    </tr>\n",
       "    <tr>\n",
       "      <th>1</th>\n",
       "      <td>POST</td>\n",
       "      <td>/users_accounts/file-upload</td>\n",
       "      <td>16/Apr/2019:193452+0000</td>\n",
       "      <td>HTTP/1.1</td>\n",
       "      <td>201</td>\n",
       "      <td>42</td>\n",
       "      <td>User-Agent: Mozilla/5.0 (X11; Fedora; Fedora; ...</td>\n",
       "      <td>97.105.19.58</td>\n",
       "    </tr>\n",
       "    <tr>\n",
       "      <th>2</th>\n",
       "      <td>GET</td>\n",
       "      <td>/api/v1/items?page=3</td>\n",
       "      <td>16/Apr/2019:193453+0000</td>\n",
       "      <td>HTTP/1.1</td>\n",
       "      <td>429</td>\n",
       "      <td>3561</td>\n",
       "      <td>python-requests/2.21.0</td>\n",
       "      <td>97.105.19.58</td>\n",
       "    </tr>\n",
       "  </tbody>\n",
       "</table>\n",
       "</div>"
      ],
      "text/plain": [
       "  method                         path                timestamp http_version  \\\n",
       "0    GET        /api/v1/sales?page=86  16/Apr/2019:193452+0000     HTTP/1.1   \n",
       "1   POST  /users_accounts/file-upload  16/Apr/2019:193452+0000     HTTP/1.1   \n",
       "2    GET         /api/v1/items?page=3  16/Apr/2019:193453+0000     HTTP/1.1   \n",
       "\n",
       "  status   bytes                                         user_agent  \\\n",
       "0    200  510348                             python-requests/2.21.0   \n",
       "1    201      42  User-Agent: Mozilla/5.0 (X11; Fedora; Fedora; ...   \n",
       "2    429    3561                             python-requests/2.21.0   \n",
       "\n",
       "             ip  \n",
       "0  97.105.19.58  \n",
       "1  97.105.19.58  \n",
       "2  97.105.19.58  "
      ]
     },
     "execution_count": 345,
     "metadata": {},
     "output_type": "execute_result"
    }
   ],
   "source": [
    "logfile_re = r'''\n",
    "^(?P<method>GET|POST)\n",
    "\\s+\n",
    "(?P<path>.*?)\n",
    "\\s+\n",
    "\\[(?P<timestamp>.*?)\\]\n",
    "\\s+\n",
    "(?P<http_version>.*?)\n",
    "\\s+\n",
    "\\{(?P<status>\\d+)\\}\n",
    "\\s+\n",
    "(?P<bytes>\\d+)\n",
    "\\s+\n",
    "\"(?P<user_agent>.*)\"\n",
    "\\s+\n",
    "(?P<ip>.*)$\n",
    "'''\n",
    "\n",
    "lines = pd.Series([\n",
    "    'GET /api/v1/sales?page=86 [16/Apr/2019:193452+0000] HTTP/1.1 {200} 510348 \"python-requests/2.21.0\" 97.105.19.58',\n",
    "    'POST /users_accounts/file-upload [16/Apr/2019:193452+0000] HTTP/1.1 {201} 42 \"User-Agent: Mozilla/5.0 (X11; Fedora; Fedora; Linux x86_64) AppleWebKit/537.36 (KHTML, like Gecko) Chrome/73.0.3683.86 Safari/537.36\" 97.105.19.58',\n",
    "    'GET /api/v1/items?page=3 [16/Apr/2019:193453+0000] HTTP/1.1 {429} 3561 \"python-requests/2.21.0\" 97.105.19.58',\n",
    "])\n",
    "lines.str.extract(logfile_re, re.VERBOSE)"
   ]
  }
 ],
 "metadata": {
  "kernelspec": {
   "display_name": "Python 3 (ipykernel)",
   "language": "python",
   "name": "python3"
  },
  "language_info": {
   "codemirror_mode": {
    "name": "ipython",
    "version": 3
   },
   "file_extension": ".py",
   "mimetype": "text/x-python",
   "name": "python",
   "nbconvert_exporter": "python",
   "pygments_lexer": "ipython3",
   "version": "3.10.12"
  }
 },
 "nbformat": 4,
 "nbformat_minor": 5
}
