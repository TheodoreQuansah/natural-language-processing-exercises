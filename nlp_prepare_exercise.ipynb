{
 "cells": [
  {
   "cell_type": "markdown",
   "id": "872c563e-598d-4737-9582-22a40ea56281",
   "metadata": {},
   "source": [
    "# Prepare"
   ]
  },
  {
   "cell_type": "code",
   "execution_count": 1,
   "id": "0a5bcdb8-65cf-4e5a-883f-1e8d8285a146",
   "metadata": {},
   "outputs": [],
   "source": [
    "import pandas as pd\n",
    "\n",
    "import unicodedata\n",
    "import re\n",
    "\n",
    "import nltk\n",
    "from nltk.tokenize.toktok import ToktokTokenizer\n",
    "from nltk.corpus import stopwords\n",
    "from nltk import PorterStemmer, word_tokenize, WordNetLemmatizer\n",
    "from acquire import get_new_links, get_news_article, get_article_data"
   ]
  },
  {
   "cell_type": "markdown",
   "id": "8a8d161f-59ef-4e29-b825-dec532905f9c",
   "metadata": {},
   "source": [
    "### 1) \n",
    "Define a function named basic_clean. It should take in a string and apply some basic text cleaning to it:  \n",
    "\n",
    "Lowercase everything  \n",
    "Normalize unicode characters  \n",
    "Replace anything that is not a letter, number, whitespace or a single quote."
   ]
  },
  {
   "cell_type": "code",
   "execution_count": 31,
   "id": "60b4cae2-9cf6-4c9d-93e4-d70c1e13c972",
   "metadata": {},
   "outputs": [],
   "source": [
    "string = \"Dark energy is a mysterious and hypothetical form of energy that is believed to make up a large portion of the total mass-energy content of the universe. It is one of the most significant and perplexing discoveries in modern cosmology and was first proposed to explain the observed accelerated expansion of the universe. Acceleration of the Universe: In the late 1990s, astronomers observed that the expansion of the universe is not slowing down due to gravity, as previously thought, but instead accelerating. \""
   ]
  },
  {
   "cell_type": "code",
   "execution_count": 3,
   "id": "8a12cf18-e553-4a1b-9573-b82a3ec0c905",
   "metadata": {},
   "outputs": [],
   "source": [
    "def basic_clean(string):\n",
    "    string = string.lower()\n",
    "    string = unicodedata.normalize('NFKD', string)\\\n",
    "            .encode('ascii', 'ignore')\\\n",
    "            .decode('utf-8', 'ignore')\n",
    "    string = re.sub(r\"[^a-z0-9'\\s]\", \"\", string)\n",
    "    string = string.strip()\n",
    "    return string"
   ]
  },
  {
   "cell_type": "code",
   "execution_count": 4,
   "id": "01b3740a-ec48-4963-9f9b-2cabccffe464",
   "metadata": {},
   "outputs": [
    {
     "data": {
      "text/plain": [
       "'dark energy is a mysterious and hypothetical form of energy that is believed to make up a large portion of the total massenergy content of the universe it is one of the most significant and perplexing discoveries in modern cosmology and was first proposed to explain the observed accelerated expansion of the universe cceleration of the universe in the late 1990s astronomers observed that the expansion of the universe is not slowing down due to gravity as previously thought but instead accelerating'"
      ]
     },
     "execution_count": 4,
     "metadata": {},
     "output_type": "execute_result"
    }
   ],
   "source": [
    "basic_clean(string)"
   ]
  },
  {
   "cell_type": "markdown",
   "id": "3e301e71-baeb-4abb-96f7-770deacf814c",
   "metadata": {},
   "source": [
    "### 2) \n",
    "Define a function named tokenize. It should take in a string and tokenize all the words in the string."
   ]
  },
  {
   "cell_type": "code",
   "execution_count": 5,
   "id": "9b0140f1-7a72-49d6-87d5-ab95e59d0941",
   "metadata": {},
   "outputs": [],
   "source": [
    "def tokenize(string):\n",
    "    tokenizer = ToktokTokenizer()\n",
    "    string = tokenizer.tokenize(string, return_str = True)\n",
    "    return string"
   ]
  },
  {
   "cell_type": "code",
   "execution_count": 6,
   "id": "782e8a17-e1fa-4dfd-a210-23a16dc167a2",
   "metadata": {},
   "outputs": [
    {
     "data": {
      "text/plain": [
       "'Dark energy is a mysterious and hypothetical form of energy that is believed to make up a large portion of the total mass-energy content of the universe. It is one of the most significant and perplexing discoveries in modern cosmology and was first proposed to explain the observed accelerated expansion of the universe. cceleration of the Universe : In the late 1990s , astronomers observed that the expansion of the universe is not slowing down due to gravity , as previously thought , but instead accelerating.'"
      ]
     },
     "execution_count": 6,
     "metadata": {},
     "output_type": "execute_result"
    }
   ],
   "source": [
    "tokenize(string)"
   ]
  },
  {
   "cell_type": "markdown",
   "id": "388041df-79ff-4bec-b638-4ce913a175c2",
   "metadata": {},
   "source": [
    "### 3) \n",
    "Define a function named stem. It should accept some text and return the text after applying stemming to all the words."
   ]
  },
  {
   "cell_type": "code",
   "execution_count": 7,
   "id": "077e268e-111f-4a0a-8bc6-42b7a3e29693",
   "metadata": {},
   "outputs": [],
   "source": [
    "def stem(string):\n",
    "    stopwords_list = stopwords.words('english')\n",
    "    words = [word for word in string.split() if word not in stopwords_list]\n",
    "    new_data = ' '.join(words)\n",
    "    ps = nltk.porter.PorterStemmer()\n",
    "    stems = [ps.stem(word) for word in words]\n",
    "    stemmed_data = ' '.join(stems)\n",
    "    return stemmed_data"
   ]
  },
  {
   "cell_type": "code",
   "execution_count": 8,
   "id": "9cf0fdd4-a3e1-43fc-b8ca-bee0c4f5e638",
   "metadata": {},
   "outputs": [
    {
     "data": {
      "text/plain": [
       "'dark energi mysteri hypothet form energi believ make larg portion total mass-energi content universe. it one signific perplex discoveri modern cosmolog first propos explain observ acceler expans universe. cceler universe: in late 1990s, astronom observ expans univers slow due gravity, previous thought, instead accelerating.'"
      ]
     },
     "execution_count": 8,
     "metadata": {},
     "output_type": "execute_result"
    }
   ],
   "source": [
    "stem(string)"
   ]
  },
  {
   "cell_type": "markdown",
   "id": "c87738fb-15f1-4ce4-9175-ff1b9033b4c9",
   "metadata": {},
   "source": [
    "### 4) \n",
    "Define a function named lemmatize. It should accept some text and return the text after applying lemmatization to each word."
   ]
  },
  {
   "cell_type": "code",
   "execution_count": 9,
   "id": "cccf5670-4657-4731-9d18-f8d41254396e",
   "metadata": {},
   "outputs": [],
   "source": [
    "def lemmatize(string):\n",
    "    stopwords_list = stopwords.words('english')\n",
    "    words = [word for word in string.split() if word not in stopwords_list]\n",
    "    new_data = ' '.join(words)\n",
    "    wnl = nltk.stem.WordNetLemmatizer()\n",
    "    lemmatize = [wnl.lemmatize(word) for word in words]\n",
    "    lemmatized_data = ' '.join(lemmatize)\n",
    "    return lemmatized_data"
   ]
  },
  {
   "cell_type": "code",
   "execution_count": 10,
   "id": "e375c576-aedf-4bcb-8ac4-d4a7e400ed34",
   "metadata": {},
   "outputs": [
    {
     "data": {
      "text/plain": [
       "'Dark energy mysterious hypothetical form energy believed make large portion total mass-energy content universe. It one significant perplexing discovery modern cosmology first proposed explain observed accelerated expansion universe. cceleration Universe: In late 1990s, astronomer observed expansion universe slowing due gravity, previously thought, instead accelerating.'"
      ]
     },
     "execution_count": 10,
     "metadata": {},
     "output_type": "execute_result"
    }
   ],
   "source": [
    "lemmatize(string)"
   ]
  },
  {
   "cell_type": "markdown",
   "id": "68c211a6-82c9-4d13-b7b6-f3e14b438e0e",
   "metadata": {},
   "source": [
    "### 5)\n",
    "Define a function named remove_stopwords. It should accept some text and return the text after removing all the stopwords.  \n",
    "\n",
    "This function should define two optional parameters, extra_words and exclude_words. These parameters should define any additional stop words to include, and any words that we don't want to remove."
   ]
  },
  {
   "cell_type": "code",
   "execution_count": 42,
   "id": "2c5be292-d36a-4e97-9388-f7b8fa8cedf1",
   "metadata": {},
   "outputs": [],
   "source": [
    "def remove_stopwords(string, extra_words=None, exclude_words=None):\n",
    "    # If extra_words and exclude_words are not provided, use empty sets\n",
    "    extra_words = extra_words or set()\n",
    "    exclude_words = exclude_words or set()\n",
    "\n",
    "    # Add the custom extra words to the stopwords list\n",
    "    stopwords_list = stopwords.words('english')\n",
    "    stopwords_list.extend(extra_words)\n",
    "\n",
    "    # Remove words that are in the stopwords list, but not in the exclude_words list\n",
    "    words = [word for word in string.split() if word not in stopwords_list or word in exclude_words]\n",
    "    \n",
    "    new_data = ' '.join(words)\n",
    "    return new_data\n"
   ]
  },
  {
   "cell_type": "code",
   "execution_count": 45,
   "id": "7bc65496-a3b5-4326-b85c-0ffac804f046",
   "metadata": {},
   "outputs": [
    {
     "data": {
      "text/plain": [
       "'Dark energy hypothetical form energy believed make large portion total mass-energy content universe. It one significant discoveries modern cosmology first proposed explain observed expansion universe. Acceleration Universe: In late 1990s, astronomers observed expansion universe slowing due gravity, previously thought, instead accelerating.'"
      ]
     },
     "execution_count": 45,
     "metadata": {},
     "output_type": "execute_result"
    }
   ],
   "source": [
    "extra_words = {'mysterious', 'perplexing', 'accelerated'}\n",
    "exclude_words = {'dark', 'energy'}\n",
    "remove_stopwords(string, extra_words, exclude_words)"
   ]
  },
  {
   "cell_type": "markdown",
   "id": "c1eb95a4-d003-4aba-95e3-926500d24d8b",
   "metadata": {},
   "source": [
    "### 6) \n",
    "Use your data from the acquire to produce a dataframe of the news articles. Name the dataframe news_df."
   ]
  },
  {
   "cell_type": "code",
   "execution_count": 13,
   "id": "623ebc40-c727-4f68-9f2d-f9ff4b003777",
   "metadata": {},
   "outputs": [],
   "source": [
    "# Define the URL to the webpage you want to scrape\n",
    "url = 'https://inshorts.com/'\n",
    "# Define the User-Agent header to be used in the HTTP request\n",
    "headers = {'User-Agent': 'Codeup Data Science'}"
   ]
  },
  {
   "cell_type": "code",
   "execution_count": 14,
   "id": "b6a0dadc-f3b6-4131-891a-cb30186c38a0",
   "metadata": {},
   "outputs": [
    {
     "name": "stdout",
     "output_type": "stream",
     "text": [
      "https://blog.inshorts.com/\n",
      "https://blog.inshorts.com/\n",
      "https://blog.inshorts.com/\n",
      "https://blog.inshorts.com/\n",
      "https://blog.inshorts.com/\n",
      "/en/read\n",
      "https://itunes.apple.com/us/app/news-in-shorts/id892146527\n",
      "https://itunes.apple.com/us/app/news-in-shorts/id892146527\n",
      "https://itunes.apple.com/us/app/news-in-shorts/id892146527\n",
      "https://itunes.apple.com/us/app/news-in-shorts/id892146527\n",
      "https://itunes.apple.com/us/app/news-in-shorts/id892146527\n",
      "https://itunes.apple.com/us/app/news-in-shorts/id892146527\n",
      "/tnc\n",
      "/tnc\n",
      "https://facebook.com/inshortsapp\n"
     ]
    }
   ],
   "source": [
    "links = get_new_links(url, headers, 'div', 'a', 'href')"
   ]
  },
  {
   "cell_type": "code",
   "execution_count": 15,
   "id": "895f793a-915f-40d1-9120-320c0a702fc1",
   "metadata": {},
   "outputs": [],
   "source": [
    "news_df = get_news_article(links, headers)"
   ]
  },
  {
   "cell_type": "markdown",
   "id": "09d74d66-9857-4411-b35b-df969dd0bb7b",
   "metadata": {},
   "source": [
    "## 7) \n",
    "Make another dataframe for the Codeup blog posts. Name the dataframe codeup_df."
   ]
  },
  {
   "cell_type": "code",
   "execution_count": 16,
   "id": "1f2dda41-0cd8-4e17-bf58-7953cb213f2f",
   "metadata": {},
   "outputs": [],
   "source": [
    "# Define the URL to the webpage you want to scrape\n",
    "url = 'https://codeup.edu/blog'\n",
    "# Define the User-Agent header to be used in the HTTP request\n",
    "headers = {'User-Agent': 'Codeup Data Science'}"
   ]
  },
  {
   "cell_type": "code",
   "execution_count": 17,
   "id": "16944606-b83b-4bca-8ccf-3be4fcaef833",
   "metadata": {},
   "outputs": [
    {
     "name": "stdout",
     "output_type": "stream",
     "text": [
      "https://codeup.edu/featured/apida-heritage-month/\n",
      "https://codeup.edu/featured/women-in-tech-panelist-spotlight/\n",
      "https://codeup.edu/featured/women-in-tech-rachel-robbins-mayhill/\n",
      "https://codeup.edu/codeup-news/women-in-tech-panelist-spotlight-sarah-mellor/\n",
      "https://codeup.edu/events/women-in-tech-madeleine/\n",
      "https://codeup.edu/codeup-news/panelist-spotlight-4/\n"
     ]
    }
   ],
   "source": [
    "links = get_new_links(url, headers, 'h2', 'a', 'href')"
   ]
  },
  {
   "cell_type": "code",
   "execution_count": 18,
   "id": "36a3f5ef-2f3a-42f3-a092-70e6fac41ee3",
   "metadata": {},
   "outputs": [],
   "source": [
    "codeup_df = get_article_data(links, headers)"
   ]
  },
  {
   "cell_type": "markdown",
   "id": "52bb6dfb-f2e4-4158-8dc4-cb7ba74bec03",
   "metadata": {},
   "source": [
    "### 8)\n",
    "For each dataframe, produce the following columns:\n",
    "\n",
    "title to hold the title  \n",
    "original to hold the original article/post content  \n",
    "clean to hold the normalized and tokenized original with the stopwords removed.  \n",
    "stemmed to hold the stemmed version of the cleaned data.  \n",
    "lemmatized to hold the lemmatized version of the cleaned data.  "
   ]
  },
  {
   "cell_type": "markdown",
   "id": "e0a64765-9b3a-4e90-9ca7-76dce7403ea4",
   "metadata": {},
   "source": [
    "### news_df"
   ]
  },
  {
   "cell_type": "code",
   "execution_count": 19,
   "id": "3ab5f7b9-b0a8-4778-8460-e82e2993f8b9",
   "metadata": {},
   "outputs": [
    {
     "data": {
      "text/plain": [
       "'86% Indians feel voting should be made compulsory: Public App Survey￼'"
      ]
     },
     "execution_count": 19,
     "metadata": {},
     "output_type": "execute_result"
    }
   ],
   "source": [
    "#title to hold the title \n",
    "title = news_df['title']\n",
    "title"
   ]
  },
  {
   "cell_type": "code",
   "execution_count": 20,
   "id": "315f86d7-e84d-4022-aa9c-720c521b8639",
   "metadata": {},
   "outputs": [
    {
     "data": {
      "text/plain": [
       "'\\nOn the occasion of the 12th National Voters’ Day, Public App, India’s largest location-based social network, conducted a survey to understand how seriously Indians take their voting rights and on what factors they evaluate for which candidate to choose. This pan-India poll was conducted with a sizable data pool of over 4 lakh people. As…More \\n\\nAs 2021 draws to a close end, users of location-based social network Public weighed in their views on the age-old tradition of making New Year’s resolutions. A New Year’s resolution is a common practice in which a person resolves to continue good habits, change an undesired trait or behavior, accomplish a personal goal, or otherwise…More \\n\\nWhile addressing the nation on November 19, Prime Minister Narendra Modi announced that the three contentious farm laws -The Farmers’ Produce Trade and Commerce (Promotion and Facilitation) Bill, 2020, The Farmers (Empowerment and Protection) Agreement of Price Assurance and Farm Services Bill, 2020 & The Essential Commodities (Amendment) Bill, 2020 – would be repealed in…More \\n\\nThe latest round of opinion polls conducted on location-based social network Public has revealed that at 64.6%, cricket fans strongly agree that mentor MS Dhoni will help improve India’s prospects at T20. The poll gauged opinions of Bharat users ahead of the ICC Men’s T20 World Cup 2021. This year, BCCI is the host of…More \\n\\n5th October 2021: With festive season being just around the corner, a recent consumer poll by Public app with over 4 lakh respondents has revealed interesting social and economical consumer insights this year which has also been compared to a similar poll that was conducted in 2020. The poll highlights that while people are considerably…More \\n\\nMajority (72%) believes that Covid-19 vaccines are safe and effective against coronavirus 8.8% of the respondents expressed hesitation in getting vaccinated About 25% responded positively to being fully vaccinated with both doses of vaccine In January 2021, India kicked off the world’s largest Covid-19 vaccination drive to vaccinate its nearly 90 crore eligible population. According…More \\n\\nNearly 76% see the world returning to normalcy with the Tokyo Olympics; 53% of the respondents are very excited. 22.74% and 21.98% are keen to watch Archery and Wrestling respectively, followed by Badminton (13.55%) and Boxing (8%). 33.71% said they’ll watch some other sport. Majority (74%) believes the Games help bring the country together and…More \\n\\nJanuary 12, 2021 With the debate raging over WhatsApp’s updated privacy policy in India, a whopping 47% respondents of an Inshorts poll said that they would not accept the policy and will look for alternatives of the messaging app. Around 14% respondents did not see any privacy concerns and said that they will accept and…More \\n\\nJanuary 13, 2021 As 2021 gets off to a shaky but hopeful start with everyone looking to put 2020 behind them, Inshorts conducted a New Year poll with over three lakh respondents giving their opinion on life as they see it in the new year. Vaccine rollouts notwithstanding, about 70% respondents said that the COVID-19…More \\n\\nAnnounces continued growth momentum; records 300% QoQ growth 1 million videos are being created per month on Public National, January 08, 2020 – Location-based social network Public has registered a whopping 10 million users within 6 months of beta launch, becoming the fastest Indian social app to cross the milestone. Public allows people to record…More \\n'"
      ]
     },
     "execution_count": 20,
     "metadata": {},
     "output_type": "execute_result"
    }
   ],
   "source": [
    "#original to hold the original article/post content \n",
    "original = news_df['content']\n",
    "original"
   ]
  },
  {
   "cell_type": "code",
   "execution_count": 21,
   "id": "78a84b0d-2125-4c83-b193-a6e52306a115",
   "metadata": {},
   "outputs": [
    {
     "data": {
      "text/plain": [
       "'occasion 12th national voters day public app indias largest locationbased social network conducted survey understand seriously indians take voting rights factors evaluate candidate choose panindia poll conducted sizable data pool 4 lakh people asmore 2021 draws close end users locationbased social network public weighed views ageold tradition making new years resolutions new years resolution common practice person resolves continue good habits change undesired trait behavior accomplish personal goal otherwisemore addressing nation november 19 prime minister narendra modi announced three contentious farm laws farmers produce trade commerce promotion facilitation bill 2020 farmers empowerment protection agreement price assurance farm services bill 2020 essential commodities amendment bill 2020 would repealed inmore latest round opinion polls conducted locationbased social network public revealed 646 cricket fans strongly agree mentor ms dhoni help improve indias prospects t20 poll gauged opinions bharat users ahead icc mens t20 world cup 2021 year bcci host ofmore 5th october 2021 festive season around corner recent consumer poll public app 4 lakh respondents revealed interesting social economical consumer insights year also compared similar poll conducted 2020 poll highlights people considerablymore majority 72 believes covid19 vaccines safe effective coronavirus 88 respondents expressed hesitation getting vaccinated 25 responded positively fully vaccinated doses vaccine january 2021 india kicked worlds largest covid19 vaccination drive vaccinate nearly 90 crore eligible population accordingmore nearly 76 see world returning normalcy tokyo olympics 53 respondents excited 2274 2198 keen watch archery wrestling respectively followed badminton 1355 boxing 8 3371 said theyll watch sport majority 74 believes games help bring country together andmore january 12 2021 debate raging whatsapps updated privacy policy india whopping 47 respondents inshorts poll said would accept policy look alternatives messaging app around 14 respondents see privacy concerns said accept andmore january 13 2021 2021 gets shaky hopeful start everyone looking put 2020 behind inshorts conducted new year poll three lakh respondents giving opinion life see new year vaccine rollouts notwithstanding 70 respondents said covid19more announces continued growth momentum records 300 qoq growth 1 million videos created per month public national january 08 2020 locationbased social network public registered whopping 10 million users within 6 months beta launch becoming fastest indian social app cross milestone public allows people recordmore'"
      ]
     },
     "execution_count": 21,
     "metadata": {},
     "output_type": "execute_result"
    }
   ],
   "source": [
    "#clean to hold the normalized and tokenized original with the stopwords removed.  \n",
    "clean = basic_clean(original)\n",
    "clean = tokenize(clean)\n",
    "clean = remove_stopwords(clean)\n",
    "clean"
   ]
  },
  {
   "cell_type": "code",
   "execution_count": 22,
   "id": "6aef882c-c148-4d6d-b920-da6f8d1d07fd",
   "metadata": {},
   "outputs": [
    {
     "data": {
      "text/plain": [
       "'occas 12th nation voter day public app india largest locationbas social network conduct survey understand serious indian take vote right factor evalu candid choos panindia poll conduct sizabl data pool 4 lakh peopl asmor 2021 draw close end user locationbas social network public weigh view ageold tradit make new year resolut new year resolut common practic person resolv continu good habit chang undesir trait behavior accomplish person goal otherwisemor address nation novemb 19 prime minist narendra modi announc three contenti farm law farmer produc trade commerc promot facilit bill 2020 farmer empower protect agreement price assur farm servic bill 2020 essenti commod amend bill 2020 would repeal inmor latest round opinion poll conduct locationbas social network public reveal 646 cricket fan strongli agre mentor ms dhoni help improv india prospect t20 poll gaug opinion bharat user ahead icc men t20 world cup 2021 year bcci host ofmor 5th octob 2021 festiv season around corner recent consum poll public app 4 lakh respond reveal interest social econom consum insight year also compar similar poll conduct 2020 poll highlight peopl considerablymor major 72 believ covid19 vaccin safe effect coronaviru 88 respond express hesit get vaccin 25 respond posit fulli vaccin dose vaccin januari 2021 india kick world largest covid19 vaccin drive vaccin nearli 90 crore elig popul accordingmor nearli 76 see world return normalci tokyo olymp 53 respond excit 2274 2198 keen watch archeri wrestl respect follow badminton 1355 box 8 3371 said theyll watch sport major 74 believ game help bring countri togeth andmor januari 12 2021 debat rage whatsapp updat privaci polici india whop 47 respond inshort poll said would accept polici look altern messag app around 14 respond see privaci concern said accept andmor januari 13 2021 2021 get shaki hope start everyon look put 2020 behind inshort conduct new year poll three lakh respond give opinion life see new year vaccin rollout notwithstand 70 respond said covid19mor announc continu growth momentum record 300 qoq growth 1 million video creat per month public nation januari 08 2020 locationbas social network public regist whop 10 million user within 6 month beta launch becom fastest indian social app cross mileston public allow peopl recordmor'"
      ]
     },
     "execution_count": 22,
     "metadata": {},
     "output_type": "execute_result"
    }
   ],
   "source": [
    "#stemmed to hold the stemmed version of the cleaned data. \n",
    "stemmed = stem(clean)\n",
    "stemmed"
   ]
  },
  {
   "cell_type": "code",
   "execution_count": 23,
   "id": "edecae55-c4f9-4c7b-9f27-d86df4027bb2",
   "metadata": {},
   "outputs": [
    {
     "data": {
      "text/plain": [
       "'occasion 12th national voter day public app india largest locationbased social network conducted survey understand seriously indian take voting right factor evaluate candidate choose panindia poll conducted sizable data pool 4 lakh people asmore 2021 draw close end user locationbased social network public weighed view ageold tradition making new year resolution new year resolution common practice person resolve continue good habit change undesired trait behavior accomplish personal goal otherwisemore addressing nation november 19 prime minister narendra modi announced three contentious farm law farmer produce trade commerce promotion facilitation bill 2020 farmer empowerment protection agreement price assurance farm service bill 2020 essential commodity amendment bill 2020 would repealed inmore latest round opinion poll conducted locationbased social network public revealed 646 cricket fan strongly agree mentor m dhoni help improve india prospect t20 poll gauged opinion bharat user ahead icc men t20 world cup 2021 year bcci host ofmore 5th october 2021 festive season around corner recent consumer poll public app 4 lakh respondent revealed interesting social economical consumer insight year also compared similar poll conducted 2020 poll highlight people considerablymore majority 72 belief covid19 vaccine safe effective coronavirus 88 respondent expressed hesitation getting vaccinated 25 responded positively fully vaccinated dos vaccine january 2021 india kicked world largest covid19 vaccination drive vaccinate nearly 90 crore eligible population accordingmore nearly 76 see world returning normalcy tokyo olympics 53 respondent excited 2274 2198 keen watch archery wrestling respectively followed badminton 1355 boxing 8 3371 said theyll watch sport majority 74 belief game help bring country together andmore january 12 2021 debate raging whatsapps updated privacy policy india whopping 47 respondent inshorts poll said would accept policy look alternative messaging app around 14 respondent see privacy concern said accept andmore january 13 2021 2021 get shaky hopeful start everyone looking put 2020 behind inshorts conducted new year poll three lakh respondent giving opinion life see new year vaccine rollouts notwithstanding 70 respondent said covid19more announces continued growth momentum record 300 qoq growth 1 million video created per month public national january 08 2020 locationbased social network public registered whopping 10 million user within 6 month beta launch becoming fastest indian social app cross milestone public allows people recordmore'"
      ]
     },
     "execution_count": 23,
     "metadata": {},
     "output_type": "execute_result"
    }
   ],
   "source": [
    "#lemmatized to hold the lemmatized version of the cleaned data.  \n",
    "lemmatized = lemmatize(clean)\n",
    "lemmatized"
   ]
  },
  {
   "cell_type": "markdown",
   "id": "900aba92-6bc5-404d-8891-cbf3246bbb61",
   "metadata": {},
   "source": [
    "### codeup_df"
   ]
  },
  {
   "cell_type": "code",
   "execution_count": 24,
   "id": "f739fd44-254e-41ef-bcf0-6cc57280ca08",
   "metadata": {},
   "outputs": [
    {
     "data": {
      "text/plain": [
       "['Spotlight on APIDA Voices: Celebrating Heritage and Inspiring Change ft. Arbeena Thapa',\n",
       " 'Women in tech: Panelist Spotlight – Magdalena Rahn',\n",
       " 'Women in tech: Panelist Spotlight – Rachel Robbins-Mayhill',\n",
       " 'Women in Tech: Panelist Spotlight – Sarah Mellor',\n",
       " 'Women in Tech: Panelist Spotlight – Madeleine Capper',\n",
       " 'Black Excellence in Tech: Panelist Spotlight – Wilmarie De La Cruz Mejia']"
      ]
     },
     "execution_count": 24,
     "metadata": {},
     "output_type": "execute_result"
    }
   ],
   "source": [
    "#title to hold the title \n",
    "title = [item['title'] for item in codeup_df]\n",
    "title"
   ]
  },
  {
   "cell_type": "code",
   "execution_count": 25,
   "id": "d0df0d0c-fb73-4a3c-98c6-0cef277b7a4a",
   "metadata": {},
   "outputs": [
    {
     "data": {
      "text/plain": [
       "['May is traditionally known as Asian American and Pacific Islander (AAPI) Heritage Month. This month we celebrate the history and contributions made possible by our AAPI friends, family, and community. We also examine our level of support and seek opportunities to better understand the AAPI community.In an effort to address real concerns and experiences, we sat down with Arbeena Thapa, one of Codeup’s Financial Aid and Enrollment Managers.Arbeena identifies as Nepali American and Desi. Arbeena’s parents immigrated to Texas in 1988 for better employment and educational opportunities. Arbeena’s older sister was five when they made the move to the US. Arbeena was born later, becoming the first in her family to be a US citizen.At Codeup we take our efforts at inclusivity very seriously. After speaking with Arbeena, we were taught that the term AAPI excludes Desi-American individuals. Hence, we will now use the term Asian Pacific Islander Desi American (APIDA).Here is how the rest of our conversation with Arbeena went!How do you celebrate or connect with your heritage and cultural traditions?“I celebrate Nepal’s version of Christmas or Dashain. This is a nine-day celebration also known as Dussehra. I grew up as Hindu and I identify as Hindu, this is a very large part of my heritage. ““Other ways I connect with my culture include sharing food! Momos are South Asian Dumplings and they’re my favorite to make and share.”“On my Asian American side, I am an advocate of immigrant justice and erasure within APIDA social or political movements. I participate in events to embrace my identity such as immigrant justice advocacy because I come from a mixed-status family. I’ve always been in a community with undocumented Asian immigrants. .”What are some of the challenges you have faced as an APIDA individual, personally or professionally?“I often struggle with being gendered as compliant or a pushover. Professionally, I am often stereotyped as meek, so I’ve been overlooked for leadership roles. We are seen as perpetually foreign; people tend to other us in that way, yet put us on a pedestal for what a model minority looks like. This has made me hesitant to share my heritage in the past because these assumptions get mapped onto me. ”Can you describe some common barriers of entry that APIDA individuals, specifically women may face when trying to enter or advance in the workplace?“Being overlooked for leadership. In the past, I have not been viewed as a leader. People sometimes have preconceived stereotypes of Asian women not being able to be bold, or being vocal can be mistaken for being too emotional. “How do you believe microaggressions impact APIDA individuals in the workplace? Can you provide examples of such microaggressions?“Erasure is big. To me, only saying ‘Merry Christmas’ isn’t inclusive to other religions. People are often resistant to saying ‘Happy Holidays,’ but saying Merry Christmas excludes, and does not appreciate my heritage. ““Often microaggressions are not micro at all. They typically are not aggressive racialized violence, but the term ‘micro’ minimizes impact.”“Some that I’ve heard are ‘What kind of Asian are you?’ or ‘Where are you from?’ This automatically makes me the ‘other’ and not seen as American. Even within the APIDA community, South Asians are overlooked as “Asian”.”How important is representation, specifically APIDA representation, in organizational leadership positions?“I want to say that it is important to have someone who looks like you in leadership roles, and it is, but those leaders may not share the same beliefs as you. Certain privileges such as wealth, resources, or lack of interaction with lower-socioeconomic-status Asian Americans may cause a difference in community politics. I do not think the bamboo ceiling is acceptable, but the company you work for plays a big part in your politics and belief alignment.”How do you feel about code-switching, and have you ever felt it necessary to code-switch?“I like sharing South Asian terms or connecting with others that have similar heritage and culture. A workplace that is welcoming to going into this sort of breakout is refreshing and makes space for us. However, having to code-switch could also mean a workplace that is not conducive and welcoming of other cultures. “Finally, in your opinion, what long-term strategies can create lasting change in the workplace and ensure support, equality, and inclusion for APIDA individuals?“Prior to a career in financial aid, I did a lot of research related to the post-9/11 immigration of the South Asian diaspora. This background made me heavily rely on grassroots organizing. Hire the people that want to innovate, hire the changemakers, hire the button-pushers. Reduce reliance on whiteness as change. This will become natural for the organization and become organizational change. Change comes from us on the ground.”A huge thank you to Arbeena Thapa for sharing her experiences, and being vulnerable with us. Your words were inspiring and the opportunity to understand your perspective more has been valuable. We hope we can become better support for the APIDA community as we learn and grow on our journey of cultivating inclusive growth.',\n",
       " 'Codeup is hosting a Women in Tech Panel in honor of Women’s History Month on March 29th, 2023! To further celebrate, we’d like to spotlight each of our panelists leading up to the discussion to learn a bit about their respective experiences as women in the tech industry!Meet Magdalena!Magdalena Rahn is a current Codeup student in a Data Science cohort in San Antonio, Texas. She has a professional background in cross-cultural communications, international business development, the wine industry and journalism. After serving in the US Navy, she decided to complement her professional skill set by attending the Data Science program at Codeup; she is set to graduate in March 2023. Magdalena is fluent in French, Bulgarian, Chinese-Mandarin, Spanish and Italian.We asked Magdalena how Codeup impacted her career, and she replied “Codeup has provided a solid foundation in analytical processes, programming and data science methods, and it’s been an encouragement to have such supportive instructors and wonderful classmates.”Don’t forget to tune in on March 29th to sit in on an insightful conversation with Magdalena.',\n",
       " 'Codeup is hosting a Women in Tech Panel in honor of Women’s History Month on March 29th, 2023! To further celebrate, we’d like to spotlight each of our panelists leading up to the discussion to learn a bit about their respective experiences as women in the tech industry! Meet Rachel!\\nRachel Robbins-Mayhill is a Decision Science Analyst I in San Antonio, Texas. Rachel has had a varied career that includes counseling, teaching, training, community development, and military operations. Her focus has always been on assessing needs, identifying solutions, and educating individuals and groups on aligning needs and solutions in different contexts. Rachel’s passion for data science stems from her belief that data is a powerful tool for communicating patterns that can lead to hope and growth in the future.In June 2022, Rachel graduated from Codeup’s Innis cohort, where she honed her skills in data science. Shortly after, she started working as a Data Science Technical Writer with Apex Systems as a Contractor for USAA in July 2022. Her unconventional role allowed her to understand where her skills could be best utilized to support USAA in a non-contract role.Rachel recently joined USAA’s Data Science Delivery team as a Decision Science Analyst I in February 2023. The team is focused on delivering machine learning models for fraud prevention, and Rachel’s particular role centers around providing strategic process solutions for the team in collaboration with Operational and Model Risk components.In addition to her career, Rachel is currently pursuing a master’s degree in Applied Data Science from Syracuse University, further expanding her knowledge and skills in the field. Rachel is passionate about collaborating with individuals who share her belief in the potential of others and strive to achieve growth through logical, informed action. She welcomes LinkedIn connections and is excited about supporting the network of CodeUp alumni!We asked Rachel how Codeup impacted her career, and she replied “Codeup delivered a comprehensive education in all facets of the data science pipeline, laying a strong foundation for me to build upon. Through repeated hands-on practice, I developed a reliable process that was immediately applicable in my job. Collaborative group projects were instrumental in helping me hone my skills in project management, allowing me to navigate complex data science projects with comfortability. Thanks to this invaluable experience, I was able to make significant strides in my career within just six months of graduating from Codeup.”Don’t forget to tune in on March 29th to sit in on an insightful conversation.',\n",
       " 'Codeup is hosting a Women in Tech Panel in honor of Women’s History Month on March 29th, 2023! To further celebrate, we’d like to spotlight each of our panelists leading up to the discussion to learn a bit about their respective experiences as women in the tech industry!Meet Sarah!Sarah Mellor currently works as the Director of People Operations. She joined Codeup four and a half years ago as an Admissions Manager. She went on to build out and lead the Marketing and Admissions team, while picking up People Ops tasks and projects here and there until moving over to lead the People Ops team two years ago. Prior to Codeup, she worked at education-focused non-profits in Washington, DC and Boulder, Colorado. She graduated from Wake Forest University.We asked Sarah how Codeup has impacted her career, and her response was “I have absolutely loved having the privilege to grow alongside Codeup. In my time here across multiple different roles and departments, I’ve seen a lot of change. The consistent things have always been the high quality of passionate and hardworking people I get to work with; the impactful mission we get to work on; and the inspiring students who trust us with their career change.”Don’t forget to tune in on March 29th to sit in on an insightful conversation.',\n",
       " 'Codeup is hosting a Women in Tech Panel in honor of Women’s History Month on March 29th, 2023! To further celebrate, we’d like to spotlight each of our panelists leading up to the discussion to learn a bit about their respective experiences as women in the tech industry!Meet Madeleine!Madeleine Capper is a Data Scientist in San Antonio, Texas. A long-standing San Antonio resident, she studied mathematics at the University of Texas San Antonio and has worked as a Data Scientist for Booz Allen Hamilton. Madeleine currently teaches Data Science at Codeup, where she works daily with burgeoning data professionals to help them actualize their career aspirations through technical education.Madeleine attended Codeup as a student in early 2019 as a pupil in the very first Codeup Data Science cohort. The program proved immediately effective and she was the first student to obtain a data career out of the program. After working at Booz Allen Hamilton, Madeleine’s passion for education in conjunction with her appreciation for Codeup’s capacity for transformative life change brought her back to the institution in an instructional capacity, where she has been teaching for two years.Don’t forget to tune in on March 29th to sit in on an insightful conversation.',\n",
       " 'Codeup is hosting a Black Excellence in Tech Panel in honor of Black History Month on February 22, 2023! To further celebrate, we’d like to spotlight each of our panelists leading up to the discussion to learn a bit about their respective experiences as black leaders in the tech industry!\\xa0\\xa0Meet Wilmarie!Wilmarie De\\xa0La Cruz Mejia is a current Codeup student on the path to becoming a Full-Stack Web Developer at our Dallas, TX campus.\\xa0Wilmarie is a veteran expanding her knowledge of programming languages and technologies on her journey with Codeup.\\xa0We asked Wilmarie to share more about her experience at Codeup. She shares, “I was able to meet other people who were passionate about coding and be in a positive learning environment.”We hope you can join us on February 22nd to sit in on an insightful conversation with Wilmarie and all of our panelists!']"
      ]
     },
     "execution_count": 25,
     "metadata": {},
     "output_type": "execute_result"
    }
   ],
   "source": [
    "#original to hold the original article/post content \n",
    "original = [item['content'] for item in codeup_df]\n",
    "original"
   ]
  },
  {
   "cell_type": "code",
   "execution_count": 26,
   "id": "3c8996aa-d45d-49d7-91ed-4a5b67f1d50c",
   "metadata": {},
   "outputs": [
    {
     "data": {
      "text/plain": [
       "\"[ ' may traditionally known asian american pacific islander aapi heritage month month celebrate history contributions made possible aapi friends family community also examine level support seek opportunities better understand aapi communityin effort address real concerns experiences sat arbeena thapa one codeups financial aid enrollment managersarbeena identifies nepali american desi arbeenas parents immigrated texas 1988 better employment educational opportunities arbeenas older sister five made move us arbeena born later becoming first family us citizenat codeup take efforts inclusivity seriously speaking arbeena taught term aapi excludes desiamerican individuals hence use term asian pacific islander desi american apidahere rest conversation arbeena wenthow celebrate connect heritage cultural traditionsi celebrate nepals version christmas dashain nineday celebration also known dussehra grew hindu identify hindu large part heritage ways connect culture include sharing food momos south asian dumplings theyre favorite make shareon asian american side advocate immigrant justice erasure within apida social political movements participate events embrace identity immigrant justice advocacy come mixedstatus family ive always community undocumented asian immigrants challenges faced apida individual personally professionallyi often struggle gendered compliant pushover professionally often stereotyped meek ive overlooked leadership roles seen perpetually foreign people tend us way yet put us pedestal model minority looks like made hesitant share heritage past assumptions get mapped onto describe common barriers entry apida individuals specifically women may face trying enter advance workplacebeing overlooked leadership past viewed leader people sometimes preconceived stereotypes asian women able bold vocal mistaken emotional believe microaggressions impact apida individuals workplace provide examples microaggressionserasure big saying merry christmas isnt inclusive religions people often resistant saying happy holidays saying merry christmas excludes appreciate heritage often microaggressions micro typically aggressive racialized violence term micro minimizes impactsome ive heard kind asian automatically makes seen american even within apida community south asians overlooked asianhow important representation specifically apida representation organizational leadership positionsi want say important someone looks like leadership roles leaders may share beliefs certain privileges wealth resources lack interaction lowersocioeconomicstatus asian americans may cause difference community politics think bamboo ceiling acceptable company work plays big part politics belief alignmenthow feel codeswitching ever felt necessary codeswitchi like sharing south asian terms connecting others similar heritage culture workplace welcoming going sort breakout refreshing makes space us however codeswitch could also mean workplace conducive welcoming cultures finally opinion longterm strategies create lasting change workplace ensure support equality inclusion apida individualsprior career financial aid lot research related post911 immigration south asian diaspora background made heavily rely grassroots organizing hire people want innovate hire changemakers hire buttonpushers reduce reliance whiteness change become natural organization become organizational change change comes us grounda huge thank arbeena thapa sharing experiences vulnerable us words inspiring opportunity understand perspective valuable hope become better support apida community learn grow journey cultivating inclusive growth ' , ' codeup hosting women tech panel honor womens history month march 29th 2023 celebrate wed like spotlight panelists leading discussion learn bit respective experiences women tech industrymeet magdalenamagdalena rahn current codeup student data science cohort san antonio texas professional background crosscultural communications international business development wine industry journalism serving us navy decided complement professional skill set attending data science program codeup set graduate march 2023 magdalena fluent french bulgarian chinesemandarin spanish italianwe asked magdalena codeup impacted career replied codeup provided solid foundation analytical processes programming data science methods encouragement supportive instructors wonderful classmatesdont forget tune march 29th sit insightful conversation magdalena ' , ' codeup hosting women tech panel honor womens history month march 29th 2023 celebrate wed like spotlight panelists leading discussion learn bit respective experiences women tech industry meet rachel\\\\nrachel robbinsmayhill decision science analyst san antonio texas rachel varied career includes counseling teaching training community development military operations focus always assessing needs identifying solutions educating individuals groups aligning needs solutions different contexts rachels passion data science stems belief data powerful tool communicating patterns lead hope growth futurein june 2022 rachel graduated codeups innis cohort honed skills data science shortly started working data science technical writer apex systems contractor usaa july 2022 unconventional role allowed understand skills could best utilized support usaa noncontract rolerachel recently joined usaas data science delivery team decision science analyst february 2023 team focused delivering machine learning models fraud prevention rachels particular role centers around providing strategic process solutions team collaboration operational model risk componentsin addition career rachel currently pursuing masters degree applied data science syracuse university expanding knowledge skills field rachel passionate collaborating individuals share belief potential others strive achieve growth logical informed action welcomes linkedin connections excited supporting network codeup alumniwe asked rachel codeup impacted career replied codeup delivered comprehensive education facets data science pipeline laying strong foundation build upon repeated handson practice developed reliable process immediately applicable job collaborative group projects instrumental helping hone skills project management allowing navigate complex data science projects comfortability thanks invaluable experience able make significant strides career within six months graduating codeupdont forget tune march 29th sit insightful conversation ' , ' codeup hosting women tech panel honor womens history month march 29th 2023 celebrate wed like spotlight panelists leading discussion learn bit respective experiences women tech industrymeet sarahsarah mellor currently works director people operations joined codeup four half years ago admissions manager went build lead marketing admissions team picking people ops tasks projects moving lead people ops team two years ago prior codeup worked educationfocused nonprofits washington dc boulder colorado graduated wake forest universitywe asked sarah codeup impacted career response absolutely loved privilege grow alongside codeup time across multiple different roles departments ive seen lot change consistent things always high quality passionate hardworking people get work impactful mission get work inspiring students trust us career changedont forget tune march 29th sit insightful conversation ' , ' codeup hosting women tech panel honor womens history month march 29th 2023 celebrate wed like spotlight panelists leading discussion learn bit respective experiences women tech industrymeet madeleinemadeleine capper data scientist san antonio texas longstanding san antonio resident studied mathematics university texas san antonio worked data scientist booz allen hamilton madeleine currently teaches data science codeup works daily burgeoning data professionals help actualize career aspirations technical educationmadeleine attended codeup student early 2019 pupil first codeup data science cohort program proved immediately effective first student obtain data career program working booz allen hamilton madeleines passion education conjunction appreciation codeups capacity transformative life change brought back institution instructional capacity teaching two yearsdont forget tune march 29th sit insightful conversation ' , ' codeup hosting black excellence tech panel honor black history month february 22 2023 celebrate wed like spotlight panelists leading discussion learn bit respective experiences black leaders tech industry meet wilmariewilmarie de la cruz mejia current codeup student path becoming fullstack web developer dallas tx campus wilmarie veteran expanding knowledge programming languages technologies journey codeup asked wilmarie share experience codeup shares able meet people passionate coding positive learning environmentwe hope join us february 22nd sit insightful conversation wilmarie panelists ' ]\""
      ]
     },
     "execution_count": 26,
     "metadata": {},
     "output_type": "execute_result"
    }
   ],
   "source": [
    "#clean to hold the normalized and tokenized original with the stopwords removed. \n",
    "clean = [basic_clean(text) for text in original]\n",
    "clean = tokenize(clean)\n",
    "clean = remove_stopwords(clean)\n",
    "clean"
   ]
  },
  {
   "cell_type": "code",
   "execution_count": 27,
   "id": "eb63c825-5a20-4380-8c71-75f9d18f81c3",
   "metadata": {},
   "outputs": [
    {
     "data": {
      "text/plain": [
       "\"[ ' may tradit known asian american pacif island aapi heritag month month celebr histori contribut made possibl aapi friend famili commun also examin level support seek opportun better understand aapi communityin effort address real concern experi sat arbeena thapa one codeup financi aid enrol managersarbeena identifi nepali american desi arbeena parent immigr texa 1988 better employ educ opportun arbeena older sister five made move us arbeena born later becom first famili us citizenat codeup take effort inclus serious speak arbeena taught term aapi exclud desiamerican individu henc use term asian pacif island desi american apidaher rest convers arbeena wenthow celebr connect heritag cultur traditionsi celebr nepal version christma dashain nineday celebr also known dussehra grew hindu identifi hindu larg part heritag way connect cultur includ share food momo south asian dumpl theyr favorit make shareon asian american side advoc immigr justic erasur within apida social polit movement particip event embrac ident immigr justic advocaci come mixedstatu famili ive alway commun undocu asian immigr challeng face apida individu person professionallyi often struggl gender compliant pushov profession often stereotyp meek ive overlook leadership role seen perpetu foreign peopl tend us way yet put us pedest model minor look like made hesit share heritag past assumpt get map onto describ common barrier entri apida individu specif women may face tri enter advanc workplaceb overlook leadership past view leader peopl sometim preconceiv stereotyp asian women abl bold vocal mistaken emot believ microaggress impact apida individu workplac provid exampl microaggressionserasur big say merri christma isnt inclus religion peopl often resist say happi holiday say merri christma exclud appreci heritag often microaggress micro typic aggress racial violenc term micro minim impactsom ive heard kind asian automat make seen american even within apida commun south asian overlook asianhow import represent specif apida represent organiz leadership positionsi want say import someon look like leadership role leader may share belief certain privileg wealth resourc lack interact lowersocioeconomicstatu asian american may caus differ commun polit think bamboo ceil accept compani work play big part polit belief alignmenthow feel codeswitch ever felt necessari codeswitchi like share south asian term connect other similar heritag cultur workplac welcom go sort breakout refresh make space us howev codeswitch could also mean workplac conduc welcom cultur final opinion longterm strategi creat last chang workplac ensur support equal inclus apida individualsprior career financi aid lot research relat post911 immigr south asian diaspora background made heavili reli grassroot organ hire peopl want innov hire changemak hire buttonpush reduc relianc white chang becom natur organ becom organiz chang chang come us grounda huge thank arbeena thapa share experi vulner us word inspir opportun understand perspect valuabl hope becom better support apida commun learn grow journey cultiv inclus growth ' , ' codeup host women tech panel honor women histori month march 29th 2023 celebr wed like spotlight panelist lead discuss learn bit respect experi women tech industrymeet magdalenamagdalena rahn current codeup student data scienc cohort san antonio texa profession background crosscultur commun intern busi develop wine industri journal serv us navi decid complement profession skill set attend data scienc program codeup set graduat march 2023 magdalena fluent french bulgarian chinesemandarin spanish italianw ask magdalena codeup impact career repli codeup provid solid foundat analyt process program data scienc method encourag support instructor wonder classmatesdont forget tune march 29th sit insight convers magdalena ' , ' codeup host women tech panel honor women histori month march 29th 2023 celebr wed like spotlight panelist lead discuss learn bit respect experi women tech industri meet rachel\\\\nrachel robbinsmayhil decis scienc analyst san antonio texa rachel vari career includ counsel teach train commun develop militari oper focu alway assess need identifi solut educ individu group align need solut differ context rachel passion data scienc stem belief data power tool commun pattern lead hope growth futurein june 2022 rachel graduat codeup inni cohort hone skill data scienc shortli start work data scienc technic writer apex system contractor usaa juli 2022 unconvent role allow understand skill could best util support usaa noncontract rolerachel recent join usaa data scienc deliveri team decis scienc analyst februari 2023 team focus deliv machin learn model fraud prevent rachel particular role center around provid strateg process solut team collabor oper model risk componentsin addit career rachel current pursu master degre appli data scienc syracus univers expand knowledg skill field rachel passion collabor individu share belief potenti other strive achiev growth logic inform action welcom linkedin connect excit support network codeup alumniw ask rachel codeup impact career repli codeup deliv comprehens educ facet data scienc pipelin lay strong foundat build upon repeat handson practic develop reliabl process immedi applic job collabor group project instrument help hone skill project manag allow navig complex data scienc project comfort thank invalu experi abl make signific stride career within six month graduat codeupdont forget tune march 29th sit insight convers ' , ' codeup host women tech panel honor women histori month march 29th 2023 celebr wed like spotlight panelist lead discuss learn bit respect experi women tech industrymeet sarahsarah mellor current work director peopl oper join codeup four half year ago admiss manag went build lead market admiss team pick peopl op task project move lead peopl op team two year ago prior codeup work educationfocus nonprofit washington dc boulder colorado graduat wake forest universityw ask sarah codeup impact career respons absolut love privileg grow alongsid codeup time across multipl differ role depart ive seen lot chang consist thing alway high qualiti passion hardwork peopl get work impact mission get work inspir student trust us career changedont forget tune march 29th sit insight convers ' , ' codeup host women tech panel honor women histori month march 29th 2023 celebr wed like spotlight panelist lead discuss learn bit respect experi women tech industrymeet madeleinemadelein capper data scientist san antonio texa longstand san antonio resid studi mathemat univers texa san antonio work data scientist booz allen hamilton madelein current teach data scienc codeup work daili burgeon data profession help actual career aspir technic educationmadelein attend codeup student earli 2019 pupil first codeup data scienc cohort program prove immedi effect first student obtain data career program work booz allen hamilton madelein passion educ conjunct appreci codeup capac transform life chang brought back institut instruct capac teach two yearsdont forget tune march 29th sit insight convers ' , ' codeup host black excel tech panel honor black histori month februari 22 2023 celebr wed like spotlight panelist lead discuss learn bit respect experi black leader tech industri meet wilmariewilmari de la cruz mejia current codeup student path becom fullstack web develop dalla tx campu wilmari veteran expand knowledg program languag technolog journey codeup ask wilmari share experi codeup share abl meet peopl passion code posit learn environmentw hope join us februari 22nd sit insight convers wilmari panelist ' ]\""
      ]
     },
     "execution_count": 27,
     "metadata": {},
     "output_type": "execute_result"
    }
   ],
   "source": [
    "#stemmed to hold the stemmed version of the cleaned data. \n",
    "stemmed = stem(clean)\n",
    "stemmed"
   ]
  },
  {
   "cell_type": "code",
   "execution_count": 28,
   "id": "0900c88e-4778-4c0c-b1d9-c0bb2ec8b72f",
   "metadata": {},
   "outputs": [
    {
     "data": {
      "text/plain": [
       "\"[ ' may traditionally known asian american pacific islander aapi heritage month month celebrate history contribution made possible aapi friend family community also examine level support seek opportunity better understand aapi communityin effort address real concern experience sat arbeena thapa one codeups financial aid enrollment managersarbeena identifies nepali american desi arbeenas parent immigrated texas 1988 better employment educational opportunity arbeenas older sister five made move u arbeena born later becoming first family u citizenat codeup take effort inclusivity seriously speaking arbeena taught term aapi excludes desiamerican individual hence use term asian pacific islander desi american apidahere rest conversation arbeena wenthow celebrate connect heritage cultural traditionsi celebrate nepal version christmas dashain nineday celebration also known dussehra grew hindu identify hindu large part heritage way connect culture include sharing food momos south asian dumpling theyre favorite make shareon asian american side advocate immigrant justice erasure within apida social political movement participate event embrace identity immigrant justice advocacy come mixedstatus family ive always community undocumented asian immigrant challenge faced apida individual personally professionallyi often struggle gendered compliant pushover professionally often stereotyped meek ive overlooked leadership role seen perpetually foreign people tend u way yet put u pedestal model minority look like made hesitant share heritage past assumption get mapped onto describe common barrier entry apida individual specifically woman may face trying enter advance workplacebeing overlooked leadership past viewed leader people sometimes preconceived stereotype asian woman able bold vocal mistaken emotional believe microaggressions impact apida individual workplace provide example microaggressionserasure big saying merry christmas isnt inclusive religion people often resistant saying happy holiday saying merry christmas excludes appreciate heritage often microaggressions micro typically aggressive racialized violence term micro minimizes impactsome ive heard kind asian automatically make seen american even within apida community south asian overlooked asianhow important representation specifically apida representation organizational leadership positionsi want say important someone look like leadership role leader may share belief certain privilege wealth resource lack interaction lowersocioeconomicstatus asian american may cause difference community politics think bamboo ceiling acceptable company work play big part politics belief alignmenthow feel codeswitching ever felt necessary codeswitchi like sharing south asian term connecting others similar heritage culture workplace welcoming going sort breakout refreshing make space u however codeswitch could also mean workplace conducive welcoming culture finally opinion longterm strategy create lasting change workplace ensure support equality inclusion apida individualsprior career financial aid lot research related post911 immigration south asian diaspora background made heavily rely grassroots organizing hire people want innovate hire changemakers hire buttonpushers reduce reliance whiteness change become natural organization become organizational change change come u grounda huge thank arbeena thapa sharing experience vulnerable u word inspiring opportunity understand perspective valuable hope become better support apida community learn grow journey cultivating inclusive growth ' , ' codeup hosting woman tech panel honor woman history month march 29th 2023 celebrate wed like spotlight panelist leading discussion learn bit respective experience woman tech industrymeet magdalenamagdalena rahn current codeup student data science cohort san antonio texas professional background crosscultural communication international business development wine industry journalism serving u navy decided complement professional skill set attending data science program codeup set graduate march 2023 magdalena fluent french bulgarian chinesemandarin spanish italianwe asked magdalena codeup impacted career replied codeup provided solid foundation analytical process programming data science method encouragement supportive instructor wonderful classmatesdont forget tune march 29th sit insightful conversation magdalena ' , ' codeup hosting woman tech panel honor woman history month march 29th 2023 celebrate wed like spotlight panelist leading discussion learn bit respective experience woman tech industry meet rachel\\\\nrachel robbinsmayhill decision science analyst san antonio texas rachel varied career includes counseling teaching training community development military operation focus always assessing need identifying solution educating individual group aligning need solution different context rachel passion data science stem belief data powerful tool communicating pattern lead hope growth futurein june 2022 rachel graduated codeups innis cohort honed skill data science shortly started working data science technical writer apex system contractor usaa july 2022 unconventional role allowed understand skill could best utilized support usaa noncontract rolerachel recently joined usaas data science delivery team decision science analyst february 2023 team focused delivering machine learning model fraud prevention rachel particular role center around providing strategic process solution team collaboration operational model risk componentsin addition career rachel currently pursuing master degree applied data science syracuse university expanding knowledge skill field rachel passionate collaborating individual share belief potential others strive achieve growth logical informed action welcome linkedin connection excited supporting network codeup alumniwe asked rachel codeup impacted career replied codeup delivered comprehensive education facet data science pipeline laying strong foundation build upon repeated handson practice developed reliable process immediately applicable job collaborative group project instrumental helping hone skill project management allowing navigate complex data science project comfortability thanks invaluable experience able make significant stride career within six month graduating codeupdont forget tune march 29th sit insightful conversation ' , ' codeup hosting woman tech panel honor woman history month march 29th 2023 celebrate wed like spotlight panelist leading discussion learn bit respective experience woman tech industrymeet sarahsarah mellor currently work director people operation joined codeup four half year ago admission manager went build lead marketing admission team picking people ops task project moving lead people ops team two year ago prior codeup worked educationfocused nonprofit washington dc boulder colorado graduated wake forest universitywe asked sarah codeup impacted career response absolutely loved privilege grow alongside codeup time across multiple different role department ive seen lot change consistent thing always high quality passionate hardworking people get work impactful mission get work inspiring student trust u career changedont forget tune march 29th sit insightful conversation ' , ' codeup hosting woman tech panel honor woman history month march 29th 2023 celebrate wed like spotlight panelist leading discussion learn bit respective experience woman tech industrymeet madeleinemadeleine capper data scientist san antonio texas longstanding san antonio resident studied mathematics university texas san antonio worked data scientist booz allen hamilton madeleine currently teach data science codeup work daily burgeoning data professional help actualize career aspiration technical educationmadeleine attended codeup student early 2019 pupil first codeup data science cohort program proved immediately effective first student obtain data career program working booz allen hamilton madeleines passion education conjunction appreciation codeups capacity transformative life change brought back institution instructional capacity teaching two yearsdont forget tune march 29th sit insightful conversation ' , ' codeup hosting black excellence tech panel honor black history month february 22 2023 celebrate wed like spotlight panelist leading discussion learn bit respective experience black leader tech industry meet wilmariewilmarie de la cruz mejia current codeup student path becoming fullstack web developer dallas tx campus wilmarie veteran expanding knowledge programming language technology journey codeup asked wilmarie share experience codeup share able meet people passionate coding positive learning environmentwe hope join u february 22nd sit insightful conversation wilmarie panelist ' ]\""
      ]
     },
     "execution_count": 28,
     "metadata": {},
     "output_type": "execute_result"
    }
   ],
   "source": [
    "lemmatized = lemmatize(clean)\n",
    "lemmatized"
   ]
  },
  {
   "cell_type": "markdown",
   "id": "0f333b0e-b91a-4a39-a4fe-866f8c52fb8d",
   "metadata": {},
   "source": [
    "### 9) \n",
    "## Ask yourself:"
   ]
  },
  {
   "cell_type": "markdown",
   "id": "a87edb6e-311d-4ac7-b7cb-32bf71b32473",
   "metadata": {},
   "source": [
    "### a) If your corpus is 493KB, would you prefer to use stemmed or lemmatized text?  \n",
    "lemmatized - While stemming and lemmatization both reduce words to their base or root form, lemmatization is generally more accurate as it considers the word's context and part of speech"
   ]
  },
  {
   "cell_type": "markdown",
   "id": "16919ee6-5a38-45e7-8fa3-d0f7739bb668",
   "metadata": {},
   "source": [
    "### b) If your corpus is 25MB, would you prefer to use stemmed or lemmatized text?  \n",
    "lemmatized - For a corpus of 25MB, which is larger than the previous one but still relatively small, lemmatization remains a good choice. "
   ]
  },
  {
   "cell_type": "markdown",
   "id": "c08831b3-13b4-49b0-b1e4-a23cea1b83a0",
   "metadata": {},
   "source": [
    "### c) If your corpus is 200TB of text and you're charged by the megabyte for your hosted computational resources, would you prefer to use stemmed or lemmatized text?  \n",
    "stemmed - In this case, with an extremely large corpus of 200TB, i would likely prefer to use stemming over lemmatization to save storage room."
   ]
  }
 ],
 "metadata": {
  "kernelspec": {
   "display_name": "Python 3 (ipykernel)",
   "language": "python",
   "name": "python3"
  },
  "language_info": {
   "codemirror_mode": {
    "name": "ipython",
    "version": 3
   },
   "file_extension": ".py",
   "mimetype": "text/x-python",
   "name": "python",
   "nbconvert_exporter": "python",
   "pygments_lexer": "ipython3",
   "version": "3.10.12"
  }
 },
 "nbformat": 4,
 "nbformat_minor": 5
}
