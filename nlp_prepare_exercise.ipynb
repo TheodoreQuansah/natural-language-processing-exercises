{
 "cells": [
  {
   "cell_type": "markdown",
   "id": "872c563e-598d-4737-9582-22a40ea56281",
   "metadata": {},
   "source": [
    "# Prepare"
   ]
  },
  {
   "cell_type": "code",
   "execution_count": 1,
   "id": "0a5bcdb8-65cf-4e5a-883f-1e8d8285a146",
   "metadata": {},
   "outputs": [],
   "source": [
    "import pandas as pd\n",
    "\n",
    "import unicodedata\n",
    "import re\n",
    "\n",
    "import nltk\n",
    "from nltk.tokenize.toktok import ToktokTokenizer\n",
    "from nltk.corpus import stopwords\n",
    "from nltk import PorterStemmer, word_tokenize, WordNetLemmatizer\n",
    "from acquire import get_new_links, get_news_article, get_article_data"
   ]
  },
  {
   "cell_type": "markdown",
   "id": "8a8d161f-59ef-4e29-b825-dec532905f9c",
   "metadata": {},
   "source": [
    "### 1) \n",
    "Define a function named basic_clean. It should take in a string and apply some basic text cleaning to it:  \n",
    "\n",
    "Lowercase everything  \n",
    "Normalize unicode characters  \n",
    "Replace anything that is not a letter, number, whitespace or a single quote."
   ]
  },
  {
   "cell_type": "code",
   "execution_count": 49,
   "id": "60b4cae2-9cf6-4c9d-93e4-d70c1e13c972",
   "metadata": {},
   "outputs": [],
   "source": [
    "string = \"Dark energy is a mysterious and hypothetical form of energy that is believed to make up a large portion of the total mass-energy content of the universe. It is one of the most significant and perplexing discoveries in modern cosmology and was first proposed to explain the observed accelerated expansion of the universe. cceleration of the Universe: In the late 1990s, astronomers observed that the expansion of the universe is not slowing down due to gravity, as previously thought, but instead accelerating. \""
   ]
  },
  {
   "cell_type": "code",
   "execution_count": 3,
   "id": "97960d4b-b97a-4f48-a7f3-3e22ece457e9",
   "metadata": {},
   "outputs": [],
   "source": [
    "def basic_clean(string):\n",
    "    string = string.lower()\n",
    "    string = unicodedata.normalize('NFKD', string)\\\n",
    "            .encode('ascii', 'ignore')\\\n",
    "            .decode('utf-8', 'ignore')\n",
    "    string = re.sub(r\"[^a-z0-9'\\s]\", \"\", string)\n",
    "    return string"
   ]
  },
  {
   "cell_type": "code",
   "execution_count": 4,
   "id": "01b3740a-ec48-4963-9f9b-2cabccffe464",
   "metadata": {},
   "outputs": [
    {
     "data": {
      "text/plain": [
       "'dark energy is a mysterious and hypothetical form of energy that is believed to make up a large portion of the total massenergy content of the universe it is one of the most significant and perplexing discoveries in modern cosmology and was first proposed to explain the observed accelerated expansion of the universe cceleration of the universe in the late 1990s astronomers observed that the expansion of the universe is not slowing down due to gravity as previously thought but instead accelerating '"
      ]
     },
     "execution_count": 4,
     "metadata": {},
     "output_type": "execute_result"
    }
   ],
   "source": [
    "basic_clean(string)"
   ]
  },
  {
   "cell_type": "markdown",
   "id": "3e301e71-baeb-4abb-96f7-770deacf814c",
   "metadata": {},
   "source": [
    "### 2) \n",
    "Define a function named tokenize. It should take in a string and tokenize all the words in the string."
   ]
  },
  {
   "cell_type": "code",
   "execution_count": 5,
   "id": "9b0140f1-7a72-49d6-87d5-ab95e59d0941",
   "metadata": {},
   "outputs": [],
   "source": [
    "def tokenize(string):\n",
    "    tokenizer = ToktokTokenizer()\n",
    "    string = tokenizer.tokenize(string, return_str = True)\n",
    "    return string"
   ]
  },
  {
   "cell_type": "code",
   "execution_count": 6,
   "id": "782e8a17-e1fa-4dfd-a210-23a16dc167a2",
   "metadata": {},
   "outputs": [
    {
     "data": {
      "text/plain": [
       "'Dark energy is a mysterious and hypothetical form of energy that is believed to make up a large portion of the total mass-energy content of the universe. It is one of the most significant and perplexing discoveries in modern cosmology and was first proposed to explain the observed accelerated expansion of the universe. cceleration of the Universe : In the late 1990s , astronomers observed that the expansion of the universe is not slowing down due to gravity , as previously thought , but instead accelerating.'"
      ]
     },
     "execution_count": 6,
     "metadata": {},
     "output_type": "execute_result"
    }
   ],
   "source": [
    "tokenize(string)"
   ]
  },
  {
   "cell_type": "markdown",
   "id": "388041df-79ff-4bec-b638-4ce913a175c2",
   "metadata": {},
   "source": [
    "### 3) \n",
    "Define a function named stem. It should accept some text and return the text after applying stemming to all the words."
   ]
  },
  {
   "cell_type": "code",
   "execution_count": 7,
   "id": "077e268e-111f-4a0a-8bc6-42b7a3e29693",
   "metadata": {},
   "outputs": [],
   "source": [
    "def stem(string):\n",
    "    stopwords_list = stopwords.words('english')\n",
    "    words = [word for word in string.split() if word not in stopwords_list]\n",
    "    new_data = ' '.join(words)\n",
    "    ps = nltk.porter.PorterStemmer()\n",
    "    stems = [ps.stem(word) for word in words]\n",
    "    stemmed_data = ' '.join(stems)\n",
    "    return stemmed_data"
   ]
  },
  {
   "cell_type": "code",
   "execution_count": 8,
   "id": "9cf0fdd4-a3e1-43fc-b8ca-bee0c4f5e638",
   "metadata": {},
   "outputs": [
    {
     "data": {
      "text/plain": [
       "'dark energi mysteri hypothet form energi believ make larg portion total mass-energi content universe. it one signific perplex discoveri modern cosmolog first propos explain observ acceler expans universe. cceler universe: in late 1990s, astronom observ expans univers slow due gravity, previous thought, instead accelerating.'"
      ]
     },
     "execution_count": 8,
     "metadata": {},
     "output_type": "execute_result"
    }
   ],
   "source": [
    "stem(string)"
   ]
  },
  {
   "cell_type": "markdown",
   "id": "c87738fb-15f1-4ce4-9175-ff1b9033b4c9",
   "metadata": {},
   "source": [
    "### 4) \n",
    "Define a function named lemmatize. It should accept some text and return the text after applying lemmatization to each word."
   ]
  },
  {
   "cell_type": "code",
   "execution_count": 9,
   "id": "cccf5670-4657-4731-9d18-f8d41254396e",
   "metadata": {},
   "outputs": [],
   "source": [
    "def lemmatize(string):\n",
    "    stopwords_list = stopwords.words('english')\n",
    "    words = [word for word in string.split() if word not in stopwords_list]\n",
    "    new_data = ' '.join(words)\n",
    "    wnl = nltk.stem.WordNetLemmatizer()\n",
    "    lemmatize = [wnl.lemmatize(word) for word in words]\n",
    "    lemmatized_data = ' '.join(lemmatize)\n",
    "    return lemmatized_data"
   ]
  },
  {
   "cell_type": "code",
   "execution_count": 10,
   "id": "e375c576-aedf-4bcb-8ac4-d4a7e400ed34",
   "metadata": {},
   "outputs": [
    {
     "data": {
      "text/plain": [
       "'Dark energy mysterious hypothetical form energy believed make large portion total mass-energy content universe. It one significant perplexing discovery modern cosmology first proposed explain observed accelerated expansion universe. cceleration Universe: In late 1990s, astronomer observed expansion universe slowing due gravity, previously thought, instead accelerating.'"
      ]
     },
     "execution_count": 10,
     "metadata": {},
     "output_type": "execute_result"
    }
   ],
   "source": [
    "lemmatize(string)"
   ]
  },
  {
   "cell_type": "markdown",
   "id": "68c211a6-82c9-4d13-b7b6-f3e14b438e0e",
   "metadata": {},
   "source": [
    "### 5)\n",
    "Define a function named remove_stopwords. It should accept some text and return the text after removing all the stopwords.  \n",
    "\n",
    "This function should define two optional parameters, extra_words and exclude_words. These parameters should define any additional stop words to include, and any words that we don't want to remove."
   ]
  },
  {
   "cell_type": "code",
   "execution_count": 11,
   "id": "9caf1a85-ef30-4bc1-bfa0-ddb5fed600f2",
   "metadata": {},
   "outputs": [],
   "source": [
    "def remove_stopwords(string):\n",
    "    stopwords_list = stopwords.words('english')\n",
    "    words = [word for word in string.split() if word not in stopwords_list]\n",
    "    new_data = ' '.join(words)\n",
    "    return new_data"
   ]
  },
  {
   "cell_type": "code",
   "execution_count": 12,
   "id": "7bc65496-a3b5-4326-b85c-0ffac804f046",
   "metadata": {},
   "outputs": [
    {
     "data": {
      "text/plain": [
       "'Dark energy mysterious hypothetical form energy believed make large portion total mass-energy content universe. It one significant perplexing discoveries modern cosmology first proposed explain observed accelerated expansion universe. cceleration Universe: In late 1990s, astronomers observed expansion universe slowing due gravity, previously thought, instead accelerating.'"
      ]
     },
     "execution_count": 12,
     "metadata": {},
     "output_type": "execute_result"
    }
   ],
   "source": [
    "remove_stopwords(string)"
   ]
  },
  {
   "cell_type": "markdown",
   "id": "c1eb95a4-d003-4aba-95e3-926500d24d8b",
   "metadata": {},
   "source": [
    "### 6) \n",
    "Use your data from the acquire to produce a dataframe of the news articles. Name the dataframe news_df."
   ]
  },
  {
   "cell_type": "code",
   "execution_count": 13,
   "id": "623ebc40-c727-4f68-9f2d-f9ff4b003777",
   "metadata": {},
   "outputs": [],
   "source": [
    "# Define the URL to the webpage you want to scrape\n",
    "url = 'https://inshorts.com/'\n",
    "# Define the User-Agent header to be used in the HTTP request\n",
    "headers = {'User-Agent': 'Codeup Data Science'}"
   ]
  },
  {
   "cell_type": "code",
   "execution_count": 14,
   "id": "b6a0dadc-f3b6-4131-891a-cb30186c38a0",
   "metadata": {},
   "outputs": [
    {
     "name": "stdout",
     "output_type": "stream",
     "text": [
      "https://blog.inshorts.com/\n",
      "https://blog.inshorts.com/\n",
      "https://blog.inshorts.com/\n",
      "https://blog.inshorts.com/\n",
      "https://blog.inshorts.com/\n",
      "/en/read\n",
      "https://itunes.apple.com/us/app/news-in-shorts/id892146527\n",
      "https://itunes.apple.com/us/app/news-in-shorts/id892146527\n",
      "https://itunes.apple.com/us/app/news-in-shorts/id892146527\n",
      "https://itunes.apple.com/us/app/news-in-shorts/id892146527\n",
      "https://itunes.apple.com/us/app/news-in-shorts/id892146527\n",
      "https://itunes.apple.com/us/app/news-in-shorts/id892146527\n",
      "/tnc\n",
      "/tnc\n",
      "https://facebook.com/inshortsapp\n"
     ]
    }
   ],
   "source": [
    "links = get_new_links(url, headers, 'div', 'a', 'href')"
   ]
  },
  {
   "cell_type": "code",
   "execution_count": 15,
   "id": "895f793a-915f-40d1-9120-320c0a702fc1",
   "metadata": {},
   "outputs": [],
   "source": [
    "news_df = get_news_article(links, headers)"
   ]
  },
  {
   "cell_type": "markdown",
   "id": "09d74d66-9857-4411-b35b-df969dd0bb7b",
   "metadata": {},
   "source": [
    "## 7) \n",
    "Make another dataframe for the Codeup blog posts. Name the dataframe codeup_df."
   ]
  },
  {
   "cell_type": "code",
   "execution_count": 16,
   "id": "1f2dda41-0cd8-4e17-bf58-7953cb213f2f",
   "metadata": {},
   "outputs": [],
   "source": [
    "# Define the URL to the webpage you want to scrape\n",
    "url = 'https://codeup.edu/blog'\n",
    "# Define the User-Agent header to be used in the HTTP request\n",
    "headers = {'User-Agent': 'Codeup Data Science'}"
   ]
  },
  {
   "cell_type": "code",
   "execution_count": 17,
   "id": "16944606-b83b-4bca-8ccf-3be4fcaef833",
   "metadata": {},
   "outputs": [
    {
     "name": "stdout",
     "output_type": "stream",
     "text": [
      "https://codeup.edu/featured/apida-heritage-month/\n",
      "https://codeup.edu/featured/women-in-tech-panelist-spotlight/\n",
      "https://codeup.edu/featured/women-in-tech-rachel-robbins-mayhill/\n",
      "https://codeup.edu/codeup-news/women-in-tech-panelist-spotlight-sarah-mellor/\n",
      "https://codeup.edu/events/women-in-tech-madeleine/\n",
      "https://codeup.edu/codeup-news/panelist-spotlight-4/\n"
     ]
    }
   ],
   "source": [
    "links = get_new_links(url, headers, 'h2', 'a', 'href')"
   ]
  },
  {
   "cell_type": "code",
   "execution_count": 18,
   "id": "36a3f5ef-2f3a-42f3-a092-70e6fac41ee3",
   "metadata": {},
   "outputs": [],
   "source": [
    "codeup_df = get_article_data(links, headers)"
   ]
  },
  {
   "cell_type": "markdown",
   "id": "52bb6dfb-f2e4-4158-8dc4-cb7ba74bec03",
   "metadata": {},
   "source": [
    "### 8)\n",
    "For each dataframe, produce the following columns:\n",
    "\n",
    "title to hold the title  \n",
    "original to hold the original article/post content  \n",
    "clean to hold the normalized and tokenized original with the stopwords removed.  \n",
    "stemmed to hold the stemmed version of the cleaned data.  \n",
    "lemmatized to hold the lemmatized version of the cleaned data.  "
   ]
  },
  {
   "cell_type": "markdown",
   "id": "e0a64765-9b3a-4e90-9ca7-76dce7403ea4",
   "metadata": {},
   "source": [
    "### news_df"
   ]
  },
  {
   "cell_type": "code",
   "execution_count": 47,
   "id": "3ab5f7b9-b0a8-4778-8460-e82e2993f8b9",
   "metadata": {},
   "outputs": [],
   "source": [
    "#title to hold the title \n",
    "title = news_df['title']"
   ]
  },
  {
   "cell_type": "code",
   "execution_count": 48,
   "id": "315f86d7-e84d-4022-aa9c-720c521b8639",
   "metadata": {},
   "outputs": [],
   "source": [
    "#original to hold the original article/post content \n",
    "original = news_df['content']"
   ]
  },
  {
   "cell_type": "code",
   "execution_count": 53,
   "id": "78a84b0d-2125-4c83-b193-a6e52306a115",
   "metadata": {},
   "outputs": [],
   "source": [
    "#clean to hold the normalized and tokenized original with the stopwords removed.  \n",
    "clean = basic_clean(original)\n",
    "clean = tokenize(clean)\n",
    "clean = remove_stopwords(clean)"
   ]
  },
  {
   "cell_type": "code",
   "execution_count": 55,
   "id": "6aef882c-c148-4d6d-b920-da6f8d1d07fd",
   "metadata": {},
   "outputs": [],
   "source": [
    "#stemmed to hold the stemmed version of the cleaned data. \n",
    "stemmed = stem(clean)"
   ]
  },
  {
   "cell_type": "code",
   "execution_count": 57,
   "id": "edecae55-c4f9-4c7b-9f27-d86df4027bb2",
   "metadata": {},
   "outputs": [],
   "source": [
    "#lemmatized to hold the lemmatized version of the cleaned data.  \n",
    "lemmatized = lemmatize(clean)"
   ]
  },
  {
   "cell_type": "markdown",
   "id": "900aba92-6bc5-404d-8891-cbf3246bbb61",
   "metadata": {},
   "source": [
    "### codeup_df"
   ]
  },
  {
   "cell_type": "code",
   "execution_count": 70,
   "id": "e711fdd2-091c-4ed5-bcee-8f031674d692",
   "metadata": {},
   "outputs": [
    {
     "ename": "SyntaxError",
     "evalue": "'return' outside function (3921353425.py, line 3)",
     "output_type": "error",
     "traceback": [
      "\u001b[0;36m  Cell \u001b[0;32mIn[70], line 3\u001b[0;36m\u001b[0m\n\u001b[0;31m    return title\u001b[0m\n\u001b[0m    ^\u001b[0m\n\u001b[0;31mSyntaxError\u001b[0m\u001b[0;31m:\u001b[0m 'return' outside function\n"
     ]
    }
   ],
   "source": [
    "df_titles = [item['title'] for item in codeup_df]\n",
    "for title in df_titles:\n",
    "    return title"
   ]
  },
  {
   "cell_type": "code",
   "execution_count": null,
   "id": "125e2bdb-b85e-4336-a3ec-f4129b2b41a6",
   "metadata": {},
   "outputs": [],
   "source": []
  },
  {
   "cell_type": "code",
   "execution_count": null,
   "id": "d0df0d0c-fb73-4a3c-98c6-0cef277b7a4a",
   "metadata": {},
   "outputs": [],
   "source": []
  },
  {
   "cell_type": "code",
   "execution_count": null,
   "id": "04e8ee7b-e42e-44fe-89c4-46ce52bdb75b",
   "metadata": {},
   "outputs": [],
   "source": []
  }
 ],
 "metadata": {
  "kernelspec": {
   "display_name": "Python 3 (ipykernel)",
   "language": "python",
   "name": "python3"
  },
  "language_info": {
   "codemirror_mode": {
    "name": "ipython",
    "version": 3
   },
   "file_extension": ".py",
   "mimetype": "text/x-python",
   "name": "python",
   "nbconvert_exporter": "python",
   "pygments_lexer": "ipython3",
   "version": "3.10.12"
  }
 },
 "nbformat": 4,
 "nbformat_minor": 5
}
